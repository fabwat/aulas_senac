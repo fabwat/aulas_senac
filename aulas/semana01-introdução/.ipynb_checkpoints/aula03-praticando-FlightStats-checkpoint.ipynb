{
 "cells": [
  {
   "cell_type": "markdown",
   "metadata": {},
   "source": [
    "# ESTUDO DE CASO-FlightStats\n",
    "\n",
    "\n",
    "## Refletindo Sobre um Contexto de Pesquisa\n",
    "\n",
    "\n",
    "1. Escreva uma seção breve contexto para a FlightStats.\n",
    "\n",
    "\n",
    "2. O que faz da FlightStats uma empresa de Big Data?\n",
    "\n",
    "\n",
    "3. Quais são os tipos de dados (estruturados, semiestruturados e não estruturados) são utilizados pela FlightStats?\n",
    "\n",
    "\n",
    "4. Que problema é resolvido com a ajuda do Big Data? \n",
    "\n",
    "\n",
    "5. Que dados são utilizados?\n",
    "\n",
    "\n",
    "6. O que compõe a camada de ingestão de dados da FlightStats?\n",
    "\n",
    "\n",
    "7. O que compôe a camada de saíde de dados da FlightStats?\n",
    "\n",
    "\n",
    "8. Quais as diferenças potenciais entre o BD de produção e o Data Warehouse?\n",
    "\n",
    "\n",
    "9. Faça um resumo breve para cada software apresentado no slide 'Softaware Stack'\n",
    "\n",
    "\n",
    "10. O que é a vmware e a amazon web services?"
   ]
  }
 ],
 "metadata": {
  "kernelspec": {
   "display_name": "Python 3",
   "language": "python",
   "name": "python3"
  },
  "language_info": {
   "codemirror_mode": {
    "name": "ipython",
    "version": 3
   },
   "file_extension": ".py",
   "mimetype": "text/x-python",
   "name": "python",
   "nbconvert_exporter": "python",
   "pygments_lexer": "ipython3",
   "version": "3.6.4"
  }
 },
 "nbformat": 4,
 "nbformat_minor": 2
}
