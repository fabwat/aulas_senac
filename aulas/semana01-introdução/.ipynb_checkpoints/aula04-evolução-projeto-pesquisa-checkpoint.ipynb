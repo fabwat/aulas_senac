{
 "cells": [
  {
   "cell_type": "markdown",
   "metadata": {},
   "source": [
    "# Evolução do Projeto de Pesquisa\n",
    "\n",
    "\n",
    "## Atividade 2 - Sistemas de Arquivos Distribuídos\n",
    "\n",
    "\n",
    "* Data-Hora Limite: 23/08/2018-19h14 (CAS)\n",
    "\n",
    "\n",
    "**Descrição da Atividade**\n",
    "\n",
    "\n",
    "* Em grupo, detalhe o projeto de pesquisa que você propôs tendo como foco o sistema de arquivos distribuídos HDFS.\n",
    "\n",
    "\n",
    "* Comece o detalhamento, explicando em termos teóricos sobre o sistema de arquivos HDFS\n",
    "\n",
    "\n",
    "* Em seguida, explique como o contexto do projeto de pesquisa se relaciona com o HDFS. Além disso, explique como sistemas de arquivos que não são distribuídos NÃO podem ser a única abordagem de solução\n",
    "\n",
    "\n",
    "* Elejam um representante para explicar o projeto ao restante da sala"
   ]
  }
 ],
 "metadata": {
  "kernelspec": {
   "display_name": "Python 3",
   "language": "python",
   "name": "python3"
  },
  "language_info": {
   "codemirror_mode": {
    "name": "ipython",
    "version": 3
   },
   "file_extension": ".py",
   "mimetype": "text/x-python",
   "name": "python",
   "nbconvert_exporter": "python",
   "pygments_lexer": "ipython3",
   "version": "3.6.4"
  }
 },
 "nbformat": 4,
 "nbformat_minor": 2
}
