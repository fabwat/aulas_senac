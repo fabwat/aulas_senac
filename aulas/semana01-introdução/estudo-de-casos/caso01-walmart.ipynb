{
 "cells": [
  {
   "cell_type": "markdown",
   "metadata": {},
   "source": [
    "# Caso 01 - WALMART\n",
    "\n",
    "## Como o Big Data é usado para impulsionar o desempenho de um supermercado\n",
    "\n",
    "### (Baseado no livro Big Data in Practice)"
   ]
  },
  {
   "cell_type": "code",
   "execution_count": 2,
   "metadata": {},
   "outputs": [
    {
     "data": {
      "text/html": [
       "<img src=\"img/big-data-in-practice.jpg\" width=150 align=\"center\"/>"
      ],
      "text/plain": [
       "<IPython.core.display.HTML object>"
      ]
     },
     "metadata": {},
     "output_type": "display_data"
    }
   ],
   "source": [
    "%%HTML\n",
    "<img src=\"img/big-data-in-practice.jpg\" width=150 align=\"center\"/>"
   ]
  },
  {
   "cell_type": "markdown",
   "metadata": {},
   "source": [
    "### Contexto\n",
    "\n",
    "* Maior varejista do mundo\n",
    "\n",
    "\n",
    "* Mais de 2 milhões de funcionários\n",
    "\n",
    "\n",
    "* Aprox. 20.000 lojas em 28 países\n",
    "\n",
    "\n",
    "* Em 2004, o furação Sandy deu o insight de que os dados deveriam ser estudados como um todo, e não isoladamente"
   ]
  },
  {
   "cell_type": "code",
   "execution_count": 15,
   "metadata": {},
   "outputs": [
    {
     "data": {
      "text/html": [
       "<img src=\"http://1.bp.blogspot.com/-1IKlJun0844/UJED17zHmgI/AAAAAAAAJT0/-VCuAwbdCdY/s1600/sTORM+15.GIF\" width=300>"
      ],
      "text/plain": [
       "<IPython.core.display.HTML object>"
      ]
     },
     "metadata": {},
     "output_type": "display_data"
    }
   ],
   "source": [
    "%%HTML\n",
    "<img src=\"http://1.bp.blogspot.com/-1IKlJun0844/UJED17zHmgI/AAAAAAAAJT0/-VCuAwbdCdY/s1600/sTORM+15.GIF\" width=300>"
   ]
  },
  {
   "cell_type": "markdown",
   "metadata": {},
   "source": [
    "As vendas de morangos Pop Tarts aumentaram na mesma proporção de lanternas e outros equipamentos de emergência em várias lojas"
   ]
  },
  {
   "cell_type": "code",
   "execution_count": 17,
   "metadata": {
    "scrolled": true
   },
   "outputs": [
    {
     "data": {
      "text/html": [
       "<iframe width=\"100%\" height=\"350\" src=\"https://www.poptarts.com/en_US/flavors/fruit/strawberry.html\">"
      ],
      "text/plain": [
       "<IPython.core.display.HTML object>"
      ]
     },
     "metadata": {},
     "output_type": "display_data"
    }
   ],
   "source": [
    "%%HTML\n",
    "<iframe width=\"100%\" height=\"350\" src=\"https://www.poptarts.com/en_US/flavors/fruit/strawberry.html\">"
   ]
  },
  {
   "cell_type": "markdown",
   "metadata": {},
   "source": [
    "* Em 2015, o Wallmart criou a maior nuvem de dados privados do mundo, para permitir o processamento de **2,5 petabytes** de informações a cada hora"
   ]
  },
  {
   "cell_type": "markdown",
   "metadata": {},
   "source": [
    "### Que Problema é Resolvido com a Ajuda de Big Data?\n",
    "\n",
    "* Os supermercados competem não apenas pelo preço, mas também pelo atendimento ao cliente e, vitalmente, pela conveniência. \n",
    "\n",
    "\n",
    "* Ter os produtos certos no lugar certo, na hora certa, para que as pessoas certas possam comprá-los, apresenta enormes problemas logísticos. \n",
    "\n",
    "\n",
    "* Os produtos precisam ter um preço eficiente para o centavo, para se manterem competitivos. \n",
    "\n",
    "\n",
    "* Se os clientes descobrirem que não podem obter tudo o que precisam sob o mesmo teto, eles procurarão em outro lugar por um lugar para fazer compras que seja mais adequado à sua agenda lotada."
   ]
  },
  {
   "cell_type": "markdown",
   "metadata": {},
   "source": [
    "### Como o Big Data é Utilizado na Prática?\n",
    "\n",
    "* Em 2011, o Walmart criou a @WalmartLabs para pesquisar e implantar novas iniciativas baseadas em dados\n",
    "\n",
    "\n",
    "* Criação do Data Café (Bentonville, Arkansas)\n",
    "\n",
    "\n",
    "* Monitoramento de 200 fluxos de dados internos e externos em tempo real, incluindo um banco de dados de 40 petabytes de todas as transações de vendas nas semanas anteriores"
   ]
  },
  {
   "cell_type": "code",
   "execution_count": 25,
   "metadata": {},
   "outputs": [
    {
     "data": {
      "text/html": [
       "<iframe width=\"100%\" height=\"300\" src=\"https://www.walmartlabs.com/\">"
      ],
      "text/plain": [
       "<IPython.core.display.HTML object>"
      ]
     },
     "metadata": {},
     "output_type": "display_data"
    }
   ],
   "source": [
    "%%HTML\n",
    "<iframe width=\"100%\" height=\"300\" src=\"https://www.walmartlabs.com/\">"
   ]
  },
  {
   "cell_type": "code",
   "execution_count": 27,
   "metadata": {},
   "outputs": [
    {
     "data": {
      "text/html": [
       "<iframe width=\"560\" height=\"315\" src=\"https://www.youtube.com/embed/S8hVJBszxio\" frameborder=\"0\" allow=\"autoplay; encrypted-media\" allowfullscreen></iframe>"
      ],
      "text/plain": [
       "<IPython.core.display.HTML object>"
      ]
     },
     "execution_count": 27,
     "metadata": {},
     "output_type": "execute_result"
    }
   ],
   "source": [
    "from IPython.display import HTML\n",
    "HTML('<iframe width=\"560\" height=\"315\" src=\"https://www.youtube.com/embed/S8hVJBszxio\" frameborder=\"0\" allow=\"autoplay; encrypted-media\" allowfullscreen></iframe>')"
   ]
  },
  {
   "cell_type": "markdown",
   "metadata": {},
   "source": [
    "* Correção da precificação de produtos em tempo real\n",
    "\n",
    "\n",
    "* A equipe de análise de dados pode perceber anomalias nas vendas dos produtos. Por exemplo, quando as lojas não colocam os produtos nas prateleiras (ex: cookies nos dias das bruxas)\n",
    "\n",
    "\n",
    "* Projeto Genoma Social do Walmart\n",
    "\n",
    "  Monitora conversas em mídias sociais públicas e tenta prever quais produtos as pessoas comprarão com base na análise das conversas\n",
    "  \n",
    "  \n",
    "* Serviço Shopycat\n",
    "\n",
    "  Prevê como os hábitos de compras das pessoas são influenciados por seus amigos\n",
    "  \n",
    "  \n",
    "* Mecanismo de Pesquisa Polaris\n",
    "\n",
    "  Permite que a equipe analise termos de pesquisa inseridos pelos clientes em seus sites"
   ]
  },
  {
   "cell_type": "markdown",
   "metadata": {},
   "source": [
    "### Quais foram os Resultados?\n",
    "\n",
    "* Redução na obtenção do insight de duas ou três semanas para 20 minutos"
   ]
  },
  {
   "cell_type": "markdown",
   "metadata": {},
   "source": [
    "### Quais Dados foram Usados? \n",
    "\n",
    "* Bancos de dados consistindo de 200 bilhões de linhas de dados transacionais (representando apenas as últimas semanas de negócios) \n",
    "\n",
    "\n",
    "* Extrai dados de outras 200 fontes, incluindo: dados meteorológicos, dados econômicos, dados de telecomunicações, dados de mídia social, preços de gás e um banco de dados de eventos que ocorrem nas proximidades das lojas Walmart"
   ]
  },
  {
   "cell_type": "markdown",
   "metadata": {},
   "source": [
    "### Quais são os Detalhes Técnicos?\n",
    "\n",
    "* O banco de dados consiste em 40 petabytes de dados (dados mais recentes)\n",
    "\n",
    "\n",
    "* Os dados das lojas, divisões online e unidades corporativas são armazenados centralmente no Hadoop \n",
    "\n",
    "\n",
    "* Adotaram uma política de \"gerenciamento inteligente\" da coleta de dados, que envolveu a configuração de vários sistemas projetados para refinar e categorizar os dados antes que eles fossem armazenados. Outras tecnologias em uso incluem o Spark e o Cassandra, e as linguagens, incluindo R e SAS, são usadas para desenvolver aplicativos analíticos."
   ]
  },
  {
   "cell_type": "markdown",
   "metadata": {},
   "source": [
    "### Quais Desafios Tiveram que ser Superados?\n",
    "\n",
    "* Encontrar pessoas com as habilidades certas\n",
    "\n",
    "\n",
    "* Utilizaram o Kaggle para encontrar candidatos\n",
    "\n",
    "\n",
    "### Quais são as Principais Lições Aprendidas?\n",
    "\n",
    "\n",
    "* A competição do ramo depende da precisão das análise de dados\n",
    "\n",
    "\n",
    "* Análise de dados é tão relevante para o Wallmart quanto é para a Amazon ou Alibaba\n",
    "\n",
    "\n",
    "* Clientes ainda estão dispostos a ir às lojas para comprar coisas pessoalmente\n",
    "\n",
    "\n",
    "### Leituras Adicionais\n",
    "1. Kaggle (2015) Predict how sales of weather-sensitive products are\n",
    "affected by snow and rain, https://www.kaggle.com/c/walmartrecruiting-sales-in-stormy-weather, accessed 5 January 2016.\n",
    "\n",
    "\n",
    "2. Walmart (2015) When data met retail: A ##lovedata story, http://\n",
    "careersblog.walmart.com/when-data-met-retail-a-lovedata-story/,\n",
    "accessed 5 January 2016."
   ]
  }
 ],
 "metadata": {
  "kernelspec": {
   "display_name": "Python 3",
   "language": "python",
   "name": "python3"
  },
  "language_info": {
   "codemirror_mode": {
    "name": "ipython",
    "version": 3
   },
   "file_extension": ".py",
   "mimetype": "text/x-python",
   "name": "python",
   "nbconvert_exporter": "python",
   "pygments_lexer": "ipython3",
   "version": "3.6.4"
  }
 },
 "nbformat": 4,
 "nbformat_minor": 2
}
