{
 "cells": [
  {
   "cell_type": "markdown",
   "metadata": {},
   "source": [
    "# Caso 03 - Apixio\n",
    "\n",
    "## Como o Big Data Está Transformando o Setor de Saúde"
   ]
  },
  {
   "cell_type": "markdown",
   "metadata": {},
   "source": [
    "### Contexto\n",
    "\n",
    "\n",
    "* **Sede**\n",
    "\n",
    "  Empresa de computação cognitiva com sede na Califórnia. \n",
    "\n",
    "\n",
    "* **Tomada de decisões no setor de saúde**\n",
    "\n",
    "   Fundada em 2009 com a visão de descobrir e tornar acessível o conhecimento clínico a partir de registros médicos digitalizados, a fim de melhorar a tomada de decisões na área da saúde. \n",
    "\n",
    "\n",
    "* **Aprender com base em evidências**\n",
    "\n",
    "  Com sua equipe de especialistas em saúde, cientistas de dados, engenheiros e especialistas em produtos, a empresa agora tem o objetivo de capacitar os profissionais de saúde a aprender com evidências baseadas na prática para individualizar os cuidados."
   ]
  },
  {
   "cell_type": "markdown",
   "metadata": {},
   "source": [
    "### Que Problema é Resolvido com a Ajuda de Big Data?\n",
    "\n",
    "* **Insights a partir dos Dados**\n",
    "\n",
    "  ~80% das informações médicas e clínicas sobre os pacientes são formadas por dados não estruturados, como anotações médicas escritas.\n",
    "\n",
    "  Como o CEO da Apixio, Darren Schulte, explica: \"*Se quisermos aprender como cuidar melhor de indivíduos e entender melhor a saúde da população como um todo, precisamos coletar dados não estruturados para insights.*\" \n",
    "\n",
    "  O problema na área da saúde não é a falta de dados, mas a natureza não estruturada de seus dados: os diversos formatos e modelos que os provedores de serviços de saúde usam e os vários sistemas diferentes que hospedam essas informações"
   ]
  },
  {
   "cell_type": "markdown",
   "metadata": {},
   "source": [
    "### Como o Big Data é Utilizado na Prática?\n",
    "\n",
    "\n",
    "* **PEPs são limitados**\n",
    "\n",
    "  Os Prontuários Eletrônicos do Paciente (PEP) não são projetados para facilitar a análise de dados e podem conter dados armazenados em vários sistemas e formatos diferentes. \n",
    "\n",
    "\n",
    "* **Ingestão de dados**\n",
    "\n",
    "  Primeiro a Apixio extrai os dados de várias fontes (anotações médicas, registros hospitalares, registros governamentais do Medicare etc.).\n",
    "\n",
    "\n",
    "  As anotações dos médicos podem vir em muitos formatos diferentes - algumas são manuscritas e outras em formato de arquivo PDF digitalizado.\n",
    "\n",
    "\n",
    "* **Tecnologia**\n",
    "\n",
    "  A Apixio usa a tecnologia OCR (reconhecimento ótico de caracteres) para criar uma representação textual. A Apixio trabalha vários algoritmos, que são baseados em aprendizado de máquina e processamento de linguagem natural.\n",
    "\n",
    "  Os dados podem ser analisados em um nível individual para criar um modelo de dados do paciente e também podem ser agregados em toda a população, a fim de obter insights maiores sobre a prevalência da doença, padrões de tratamento etc. \n",
    "\n",
    "\n",
    "* **Medicina baseada em evidência**\n",
    "\n",
    "  Schulte explica: \"*Criamos um objeto paciente, que é essencialmente um perfil montado usando dados derivados de processamento de texto e texto de mineração e dados de saúde codificados. Ao criar este perfil individual e agrupar indivíduos com perfis semelhantes, podemos responder a perguntas sobre o que funciona e o que não funciona nesses indivíduos. Torna-se a base para a medicina personalizada*\".\n",
    "  \n",
    "  \n",
    "* **HCC Profiler**\n",
    "\n",
    "  Os clientes deste produto dividem-se em dois grupos: planos de seguro e redes de prestação de cuidados de saúde (incluindo hospitais e clínicas). O Medicare constitui uma grande parte de seus negócios, especialmente os indivíduos dentro do Medicare que optaram por planos de estilo de organização de manutenção da saúde (chamados Medicare Advantage Plans), que representavam quase 17 milhões de pessoas nos EUA em 2015. \n",
    "    \n",
    "  Planos de saúde e médicos as organizações têm um incentivo para gerenciar o custo total de atendimento para esses indivíduos. Para fazer isso, essas organizações precisam saber muito mais sobre cada indivíduo: \n",
    "   \n",
    "  Quais são as doenças que estão sendo ativamente tratadas? \n",
    "  \n",
    "  Qual é a gravidade da doença? \n",
    "  \n",
    "  Quais são os vários tratamentos oferecidos a esses indivíduos?"
   ]
  },
  {
   "cell_type": "markdown",
   "metadata": {},
   "source": [
    "### Quais Foram os Resultados?\n",
    "\n",
    "* **Pagamento para os planos de saúde individual**\n",
    "\n",
    "  Para os pacientes com planos Medicare Advantage Plans, o Medicare paga um \"pagamento capitalizado\" para o plano de saúde patrocinador ou para a organização prestadora - um pagamento mensal calculado para cada indivíduo com base nos custos de saúde esperados ao longo desse ano. \n",
    "\n",
    "\n",
    "* **Modelo de previsão de custos**\n",
    "\n",
    "  Leva em consideração vários fatores, como o número, o tipo e a gravidade das condições tratadas para o indivíduo. Compreender essas condições é fundamental não apenas para estimar o custo dos cuidados de saúde para indivíduos durante um determinado período, mas também porque as informações também são muito úteis para ajudar a gerenciar melhor os cuidados em toda a população. \n",
    "    \n",
    "  Tradicionalmente, para entender essas informações do paciente, os especialistas treinados em leitura de gráficos e codificação de informações (\"codificadores\") teriam que ler todo o prontuário do paciente em busca de documentação relacionada a doenças e tratamento. Essa é uma maneira trabalhosa e cara de extrair informações dos prontuários dos pacientes e repleta de erros humanos. \n",
    "  \n",
    "  \n",
    "* O Apixio demonstrou que os computadores podem permitir que os codificadores leiam duas ou três vezes mais gráficos por hora do que a revisão manual sozinha. Além de acelerar o processo de revisão de gráficos, a Apixio descobriu que os computadores são mais precisos também. \n",
    "\n",
    "\n",
    "* Aumento de 20% com base nas análises feitas por seres humanos\n",
    "\n",
    "  Um benefício adicional é encontrar lacunas na documentação do paciente, como uma notação médica de uma doença crônica na história do paciente sem uma avaliação ou plano recente."
   ]
  },
  {
   "cell_type": "markdown",
   "metadata": {},
   "source": [
    "### Que Dados Foram Utilizados?\n",
    "\n",
    "* Dados estruturados e não estruturados\n",
    "\n",
    "  A maior parte de seus dados sejam gráficos clínicos não estruturados e datilografados. \n",
    "  \n",
    "  Exemplo: notas GP, notas de consultor, notas de radiologia, resultados de patologia, notas de alta de um hospital, etc. \n",
    "  \n",
    "  Eles também trabalham com informações sobre doenças e procedimentos que são relatados ao governo (neste caso Medicare)."
   ]
  },
  {
   "cell_type": "markdown",
   "metadata": {},
   "source": [
    "### Quais são os Detalhes Técnicos?\n",
    "\n",
    "* **Infraestrutura**\n",
    "\n",
    "  Banco de Dados Cassandra\n",
    "  \n",
    "  Plataformas de computação distribuída, como Hadoop e Spark\n",
    "\n",
    "  Operação na Amazon Web Services (AWS)\n",
    "\n",
    "\n",
    "\n",
    "* **Gráfico do conhecimento**\n",
    "\n",
    "   A Apixio criou seu próprio \"gráfico de conhecimento\" para reconhecer milhões de conceitos e termos de assistência médica e entender as relações entre eles. \n",
    "   \n",
    "   Esse tipo de ferramenta é específico para o setor de saúde: uma solução pronta para uso de um provedor de Big Data que trabalha em vários setores simplesmente não funcionaria para eles. \n",
    "\n",
    "\n",
    "* **Ingestão de dados**\n",
    "\n",
    "  Os prontuários dos pacientes em arquivos PDF ou TIFF são os dados primários fornecidos pelos planos de saúde, devido ao processo de aquisição de gráficos dos escritórios dos provedores por fax ou pela impressão e digitalização dos registros solicitados no consultório médico. \n",
    "\n",
    "  Portanto, a Apixio desenvolveu uma tecnologia sofisticada para alavancar e dimensionar o OCR para tornar os prontuários médicos escaneados legíveis por algoritmos."
   ]
  },
  {
   "cell_type": "markdown",
   "metadata": {},
   "source": [
    "### Quais Desafios Tiveram que ser Superados?\n",
    "\n",
    "\n",
    "* **Efetivar as parcerias com planos de saúde e outros prestadores**\n",
    "\n",
    "\n",
    "*\"Nossa proposição de valor é forte o suficiente para superar qualquer receio sobre o compartilhamento desses dados ... a menos que você resolva um problema crítico real hoje, nenhuma dessas organizações lhe dará acesso a qualquer quantidade real de dados\"* Schulte. \n",
    "\n",
    "* **Segurança de dados**\n",
    "\n",
    "*\"Para cada novo contrato, temos que demonstrar nossa segurança. E estar na AWS certamente ajuda a esse respeito ... tira um pouco de sua ansiedade\"* Schulte"
   ]
  },
  {
   "cell_type": "markdown",
   "metadata": {},
   "source": [
    "### Referências e Leituras Adicionais\n",
    "\n",
    "1. http://www.apixio.com\n",
    "\n",
    "\n",
    "2. http://www.smartdatacollective.com/bernardmarr/339832/why-weneed-more-big-data-doctors"
   ]
  }
 ],
 "metadata": {
  "kernelspec": {
   "display_name": "Python 3",
   "language": "python",
   "name": "python3"
  },
  "language_info": {
   "codemirror_mode": {
    "name": "ipython",
    "version": 3
   },
   "file_extension": ".py",
   "mimetype": "text/x-python",
   "name": "python",
   "nbconvert_exporter": "python",
   "pygments_lexer": "ipython3",
   "version": "3.6.4"
  }
 },
 "nbformat": 4,
 "nbformat_minor": 2
}
