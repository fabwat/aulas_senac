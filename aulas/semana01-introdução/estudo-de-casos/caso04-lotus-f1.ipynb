{
 "cells": [
  {
   "cell_type": "markdown",
   "metadata": {},
   "source": [
    "# CASO 04 - LOTUS F1 TEAM\n",
    "\n",
    "\n",
    "## Como Big Data é Essencial para o Sucesso das Equipes de Automobilismo"
   ]
  },
  {
   "cell_type": "code",
   "execution_count": 2,
   "metadata": {},
   "outputs": [
    {
     "data": {
      "text/html": [
       "<img src=\"img/big-data-in-practice.jpg\" width=150 align=\"center\"/>"
      ],
      "text/plain": [
       "<IPython.core.display.HTML object>"
      ]
     },
     "metadata": {},
     "output_type": "display_data"
    }
   ],
   "source": [
    "%%HTML\n",
    "<img src=\"img/big-data-in-practice.jpg\" width=150 align=\"center\"/>"
   ]
  },
  {
   "cell_type": "markdown",
   "metadata": {},
   "source": [
    "### Contexto"
   ]
  },
  {
   "cell_type": "code",
   "execution_count": 1,
   "metadata": {},
   "outputs": [
    {
     "data": {
      "text/html": [
       "<iframe width=\"560\" height=\"315\" src=\"https://www.youtube.com/embed/McTJlQHrHuE\" frameborder=\"0\" allow=\"autoplay; encrypted-media\" allowfullscreen></iframe>"
      ],
      "text/plain": [
       "<IPython.core.display.HTML object>"
      ]
     },
     "execution_count": 1,
     "metadata": {},
     "output_type": "execute_result"
    }
   ],
   "source": [
    "from IPython.display import HTML\n",
    "HTML('<iframe width=\"560\" height=\"315\" src=\"https://www.youtube.com/embed/McTJlQHrHuE\" frameborder=\"0\" allow=\"autoplay; encrypted-media\" allowfullscreen></iframe>')"
   ]
  },
  {
   "cell_type": "markdown",
   "metadata": {},
   "source": [
    "### Que Problema é Resolvido com a Ajuda de Big Data?\n",
    "\n",
    "\n",
    "* **Telemetria**\n",
    "\n",
    "  *\"A Fórmula 1 sempre esteve na vanguarda do desenvolvimento tecnológico, então era natural que a análise de dados se tornasse uma grande coisa para nós. Economiza tempo e dinheiro: em vez de tendo que confiar na tentativa e erro, temos dados reais\"*\n",
    "\n",
    "\n",
    "* **Vantagem competitiva**\n",
    "\n",
    "  Ajuda a deixar o esporte mais emocionante"
   ]
  },
  {
   "cell_type": "markdown",
   "metadata": {},
   "source": [
    "### Como o Big Data é Utilizado na Prática?\n",
    "\n",
    "\n",
    "* **Magnitude dos dados**\n",
    "\n",
    "   A ordem de grandeza dos dados coletados é de petabytes\n",
    "\n",
    "\n",
    "* **Ajustes no carro durante os testes**\n",
    "\n",
    "\n",
    "* **Simulações**\n",
    "\n",
    "  As simulações são essenciais porque a quantidade de tempo que os motoristas podem praticar e testar os carros é limitada pela FIA\n",
    "\n",
    "\n",
    "* **Sistemas de processamento e armazenamento distribuídos**\n",
    "\n",
    "   Em 2013, a Lotus F1 alterou o sistema de armazenamento usado para os dados recebidos por seus carros para um sistema mais rápido que permitia transferir 2000 estatísticas por volta. \n",
    "    \n",
    "   A equipe considerou essa mudança como um fator chave na melhoria dramática no desempenho de seu piloto novato Marlon Stöckinger na Fórmula Renault 3.5; \n",
    "    \n",
    "  Antes, os dados eram transmitidos em somente quando o carro passava pela pit lane. Agora é em tempo constante e real (ou quase real)\n",
    "    \n",
    "  Ajuda a equipe na sede da equipe a ter os dados apenas uma fração de segundo depois da equipe no pit\n",
    "        \n",
    "  Ajuda as equipes a tomar decisões de longo prazo\n",
    "    \n",
    "  Dados dos espectadores => mais de 2,3 terabytes (em 2014) em fotos, vídeos e redes sociais"
   ]
  },
  {
   "cell_type": "markdown",
   "metadata": {},
   "source": [
    "### Quais foram os Resultados?\n",
    "\n",
    "* **O caso de Sebastian Vettel (Red Bull)**\n",
    "\n",
    "  No GP Brasil 2012, o carro de Vettel girou e foi danificado. Na 10ª volta, os engenheiros usaram simulações usando os dados transmitidos do carro para mantê-lo na pista por mais 70 voltas. Pontos cruciais para o piloto garantir o título de campeão pelo 3º ano consecutivo\n",
    "  \n",
    "  \n",
    "* **O caso de Marlon Stöckinger (Lotus F1)**\n",
    "\n",
    "  Em 2013, Stöckinger marcou 23 pontos e terminou em 18º na temporada; em 2014, ele marcou 73 pontos e terminou em 9º.\n",
    "  \n",
    "  A equipe creditou parte dessa melhoria de desempenho ao uso de Big Data"
   ]
  },
  {
   "cell_type": "markdown",
   "metadata": {},
   "source": [
    "### Que Dados foram Utilizados?\n",
    "\n",
    "* **Sensores no carro**\n",
    "\n",
    "  Mais de 200 sensores conectados ao carro\n",
    "  \n",
    "  Quantidade de combustível, pressão do pneu, força-G, ações do piloto (mais de 20 controles na ponta dos dedos)\n",
    "    \n",
    "  A transmissão de dados também ocorre quando os carros estão parados na garagem\n",
    "  \n",
    "  Cada carro gera cerca de 50 gigabytes por corrida\n",
    "  \n",
    "  Modelos matemáticos para obter insights sobre desempenho e confiabilidade\n",
    "  \n",
    "\n",
    "* **Sensores no piloto??**"
   ]
  },
  {
   "cell_type": "markdown",
   "metadata": {},
   "source": [
    "### Quais são os Detalhes Técnicos?\n",
    "\n",
    "* Parceria da Lotus F1 com a EMC\n",
    "\n",
    "\n",
    "* Servidores V-Block\n",
    "\n",
    "\n",
    "* Nuvem privada\n",
    "\n",
    "\n",
    "* Unidade de controle do motor padrão\n",
    "\n",
    "  Essa unidade vem com um conjunto de pacotes de software que todas as equipes usam. Cada equipe faz uma personalização"
   ]
  },
  {
   "cell_type": "markdown",
   "metadata": {},
   "source": [
    "### Quais Desafios Tiveram que ser Superados?\n",
    "\n",
    "\n",
    "* Quantidade de pessoas de TI presentes durante a corrida\n",
    "\n",
    "  Dos 40 funcionários permitidos na garagem, apenas uma pesssoa é de TI"
   ]
  },
  {
   "cell_type": "markdown",
   "metadata": {},
   "source": [
    "### Quais são as Principais Lições Aprendidas?\n",
    "\n",
    "\n",
    "* Decisões suportadas por dados e estatísticas"
   ]
  },
  {
   "cell_type": "markdown",
   "metadata": {},
   "source": [
    "### Referências e Leituras Adicionais\n",
    "\n",
    "1. http://www.v3.co.uk/v3-uk/interview/2413871/cio-insight-lotus-f1-onsuperfast-big-data-and-hyper-converged-infrastructure\n",
    "\n",
    "\n",
    "2. http://www.emc.com/microsites/infographics/emc-lotus-f1-teaminfographic.htm\n"
   ]
  },
  {
   "cell_type": "code",
   "execution_count": null,
   "metadata": {},
   "outputs": [],
   "source": []
  }
 ],
 "metadata": {
  "kernelspec": {
   "display_name": "Python 3",
   "language": "python",
   "name": "python3"
  },
  "language_info": {
   "codemirror_mode": {
    "name": "ipython",
    "version": 3
   },
   "file_extension": ".py",
   "mimetype": "text/x-python",
   "name": "python",
   "nbconvert_exporter": "python",
   "pygments_lexer": "ipython3",
   "version": "3.6.4"
  }
 },
 "nbformat": 4,
 "nbformat_minor": 2
}
