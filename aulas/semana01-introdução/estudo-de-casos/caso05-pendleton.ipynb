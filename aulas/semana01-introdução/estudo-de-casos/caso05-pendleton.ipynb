{
 "cells": [
  {
   "cell_type": "markdown",
   "metadata": {},
   "source": [
    "# Caso 05 - CASA DE CARNES PENDLETON\n",
    "\n",
    "\n",
    "## Big Data para Pequenas Empresas"
   ]
  },
  {
   "cell_type": "code",
   "execution_count": 1,
   "metadata": {},
   "outputs": [
    {
     "data": {
      "text/html": [
       "<img src=\"img/big-data-in-practice.jpg\" width=150 align=\"center\"/>"
      ],
      "text/plain": [
       "<IPython.core.display.HTML object>"
      ]
     },
     "metadata": {},
     "output_type": "display_data"
    }
   ],
   "source": [
    "%%HTML\n",
    "<img src=\"img/big-data-in-practice.jpg\" width=150 align=\"center\"/>"
   ]
  },
  {
   "cell_type": "markdown",
   "metadata": {},
   "source": [
    "### Contexto\n",
    "\n",
    "* Açougue local baseado no noroeste de Londres. \n",
    "\n",
    "  Fundada em 1996. base de clientes estável. Boa reputação. \n",
    "  \n",
    "  \n",
    "* Competição contra rede de supermercados\n",
    "\n",
    "  A loja afetou a receita do pequeno açougue"
   ]
  },
  {
   "cell_type": "markdown",
   "metadata": {},
   "source": [
    "### Que Problema é Resolvido com a Ajuda de Big Data?\n",
    "\n",
    "* **Como atrair os clientes?**\n",
    "\n",
    "  Competição pelo preço não estava funcionando"
   ]
  },
  {
   "cell_type": "markdown",
   "metadata": {},
   "source": [
    "### Como o Big Data é Utilizado na Prática?\n",
    "\n",
    "\n",
    "* **Sensores nas vitrines das lojas**\n",
    "\n",
    "  Medição do impacto de vitrines e promoções\n",
    "    \n",
    "  Quantas pessoas passaram pela vitrine?\n",
    "  \n",
    "  Quantas pararam para olhar as promoções?\n",
    "  \n",
    "  Quantas pessoas efetivamente entraram na loja?\n",
    "  \n",
    "  Horários de maior movimento\n",
    "  \n",
    "\n",
    "* **Refinamento de promoções e mensagens**\n",
    "\n",
    "  Mensagens não centradas no preço, mas com doses de inspiração\n",
    "  \n",
    "  \n",
    "* **Análise de tendências no Google Trends**\n",
    "\n",
    "  Verificação de quais alimentos eram mais populares"
   ]
  },
  {
   "cell_type": "markdown",
   "metadata": {},
   "source": [
    "### Quais foram os Resultados?\n",
    "\n",
    "* **Criação de novos produtos**\n",
    "\n",
    "  Hambúrguer de carne de porco com chouriço\n",
    "  \n",
    "\n",
    "* **Novo estilo de mensagens**\n",
    "\n",
    "  Inspiração e idéias ao invés de chamadas pelo preço, que estavam disponíveis todos os dias no supermercado.\n",
    "  \n",
    "\n",
    "* **Novos horários de funcionamento**\n",
    "\n",
    "  A análise descobriu que muitas pessoas transitavam em frente a vitrine durante a noite e os Pendletons resolveram fazer essas aberturas uma característica permanente."
   ]
  },
  {
   "cell_type": "markdown",
   "metadata": {},
   "source": [
    "### Que Dados foram Utilizados?\n",
    "\n",
    "* **Sensores pequenos**\n",
    "\n",
    "  Pequenos sensores colocadores do lado de fora da janela da loja, além de dados internos, como dados de transações e estoque\n",
    "\n",
    "* **Dados metereológicos**\n",
    "\n",
    "  Utilização de dados metereológicos externos (gratuitos) para ajudá-los a planejar as sugestões e receitas para a próxima semana"
   ]
  },
  {
   "cell_type": "markdown",
   "metadata": {},
   "source": [
    "### Quais são os Detalhes Técnicos?\n",
    "\n",
    "* **Sensores**\n",
    "\n",
    "   Sensores de detecção de celular (bluetooth e WiFi)\n",
    "\n",
    "   Captam o endereço MAC do celular\n",
    "   \n",
    "   A intensidade do sinal (distância do sensor)\n",
    "   \n",
    "   O fornecedor do smartphone (Apple, Samsung)\n",
    "   \n",
    "   Tipo do dispositivo\n",
    " \n",
    " \n",
    " * **Plataforma de business intelligence baseada em nuvem**"
   ]
  },
  {
   "cell_type": "markdown",
   "metadata": {},
   "source": [
    "### Quais Desafios Tiveram que ser Superados?\n",
    "\n",
    "\n",
    "* **Convencimento do dono (pai)**\n",
    "\n",
    "  Estabelecimento do business case de sucesso\n",
    "\n",
    "* **Definição das metas**\n",
    "\n",
    "  Aumentar a conscientização dos clientes (sobre a qualidade superior dos produtos)\n",
    "\n",
    "  Aumentar a receita (por meio da atração de novos clientes)\n",
    "\n",
    "* **Contratação de serviços especializados**\n",
    "\n",
    "  Provedor de Big Data As a Service (BDAAS)\n",
    "  \n",
    "  Análise dos dados feita pelo próprio provedor"
   ]
  },
  {
   "cell_type": "markdown",
   "metadata": {},
   "source": [
    "### Quais são as Principais Lições Aprendidas?\n",
    "\n",
    "\n",
    "* Big Data não é exclusividade das grandes corporações"
   ]
  },
  {
   "cell_type": "markdown",
   "metadata": {},
   "source": [
    "### Referências e Leituras Adicionais\n",
    "\n",
    "1. Big Data for Small Business For Dummies (2016), John Wiley & Sons, Ltd, Chichester.\n",
    "\n",
    "\n",
    "2. http://www.forbes.com/sites/bernardmarr/2015/04/27/big-data-as-aservice-is-next-big-thing/"
   ]
  }
 ],
 "metadata": {
  "kernelspec": {
   "display_name": "Python 3",
   "language": "python",
   "name": "python3"
  },
  "language_info": {
   "codemirror_mode": {
    "name": "ipython",
    "version": 3
   },
   "file_extension": ".py",
   "mimetype": "text/x-python",
   "name": "python",
   "nbconvert_exporter": "python",
   "pygments_lexer": "ipython3",
   "version": "3.6.4"
  }
 },
 "nbformat": 4,
 "nbformat_minor": 2
}
