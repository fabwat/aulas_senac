{
 "cells": [
  {
   "cell_type": "markdown",
   "metadata": {},
   "source": [
    "# Arquitetura e *Analytics* de Big Data\n",
    "\n",
    "\n",
    "## Panorama de Big Data"
   ]
  },
  {
   "cell_type": "markdown",
   "metadata": {},
   "source": [
    "### A Importância Histórica dos Dados\n",
    "\n"
   ]
  },
  {
   "cell_type": "markdown",
   "metadata": {},
   "source": [
    "* Os Dados: Euclides"
   ]
  },
  {
   "cell_type": "code",
   "execution_count": 41,
   "metadata": {},
   "outputs": [
    {
     "data": {
      "text/html": [
       "<img src=\"https://idalab.de/wp-content/uploads/1_Euclid_Data_BnF.jpeg\" width=\"30%\" />"
      ],
      "text/plain": [
       "<IPython.core.display.HTML object>"
      ]
     },
     "metadata": {},
     "output_type": "display_data"
    }
   ],
   "source": [
    "%%HTML\n",
    "<img src=\"https://idalab.de/wp-content/uploads/1_Euclid_Data_BnF.jpeg\" width=\"30%\" />"
   ]
  },
  {
   "cell_type": "markdown",
   "metadata": {},
   "source": [
    "* Documentos medievais\n",
    "\n",
    "  => Data (calendário: datum)\n",
    "  \n",
    "  => Dados (fato)"
   ]
  },
  {
   "cell_type": "code",
   "execution_count": 42,
   "metadata": {},
   "outputs": [
    {
     "data": {
      "text/html": [
       "<img src=\"https://idalab.de/wp-content/uploads/2_MedievalDocuments_Marburg.png\" width=\"50%\" />"
      ],
      "text/plain": [
       "<IPython.core.display.HTML object>"
      ]
     },
     "metadata": {},
     "output_type": "display_data"
    }
   ],
   "source": [
    "%%HTML\n",
    "<img src=\"https://idalab.de/wp-content/uploads/2_MedievalDocuments_Marburg.png\" width=\"50%\" />"
   ]
  },
  {
   "cell_type": "markdown",
   "metadata": {},
   "source": [
    "* Dados binários\n",
    "\n",
    "  => Gottfried Leibniz - 1666\n",
    "  \n",
    "  => Misticismo: 1 é Deus; 0 é o Vazio"
   ]
  },
  {
   "cell_type": "code",
   "execution_count": 43,
   "metadata": {},
   "outputs": [
    {
     "data": {
      "text/html": [
       "<img src=\"https://upload.wikimedia.org/wikipedia/commons/5/5c/Fotothek_df_tg_0005486_Mathematik_%5E_Kombinatorik.jpg\" width=\"50%\">"
      ],
      "text/plain": [
       "<IPython.core.display.HTML object>"
      ]
     },
     "metadata": {},
     "output_type": "display_data"
    }
   ],
   "source": [
    "%%HTML\n",
    "<img src=\"https://upload.wikimedia.org/wikipedia/commons/5/5c/Fotothek_df_tg_0005486_Mathematik_%5E_Kombinatorik.jpg\" width=\"50%\">"
   ]
  },
  {
   "cell_type": "markdown",
   "metadata": {},
   "source": [
    "### Os Dados na História Mais Recente\n",
    "\n",
    "* Byte\n",
    "\n",
    "  => Cunhado por Werner Buchholz (IBM) 1956\n",
    "  \n",
    "  \n",
    "* Dados como fatos científicos e estatísticos\n",
    "\n",
    "  => Sempre produzidos por seres humanos"
   ]
  },
  {
   "cell_type": "markdown",
   "metadata": {},
   "source": [
    "### Momento de Disrupção\n",
    "\n",
    "* Recursos Humanos => valiosos\n",
    "\n",
    "\n",
    "* Poder de processamento (automação) => valioso\n",
    "\n",
    "\n",
    "* Dados => ?? "
   ]
  },
  {
   "cell_type": "markdown",
   "metadata": {},
   "source": [
    "### A Era do *Business Intelligence* (BI)\n",
    "\n",
    "Vantagens competitivas\n",
    "\n",
    "* Data Warehouses\n",
    "  \n",
    "  => Os dados são movidos para análise nos Data Warehouses (servidores dedicados)\n",
    "  \n",
    "  => Queries para análises e relatórios em geral\n",
    "  \n",
    "  => Fontes dados de dados históricas e internas transacionais\n",
    "  \n",
    "  => Modelos estáticos em processos batch\n",
    "  \n",
    "  => Requerem especialistas para a elaboração das queries"
   ]
  },
  {
   "cell_type": "markdown",
   "metadata": {},
   "source": [
    "### Demandas Atuais\n",
    "\n",
    "Vantagens competitivas\n",
    "\n",
    "* Novas Fontes e Novas Magnitudes\n",
    "\n",
    "  => Dados estruturados, quasiestruturados, semiestruturados, e não estruturados\n",
    "    \n",
    "   Blogs, cliques, conteúdo das mídias sociais, vídeos, fotos, audios e logs de sistemas. Além de sensores dentro dos smartphones, veículos, construções, sistemas robóticos, eletrodomésticos, RFIDs etc"
   ]
  },
  {
   "cell_type": "code",
   "execution_count": 16,
   "metadata": {},
   "outputs": [
    {
     "data": {
      "text/html": [
       "<img src=\"https://4.bp.blogspot.com/-pUjc76RbEiE/V01K_GzWc1I/AAAAAAAAC4U/KAfRqWCv3GYMlH7esHhGgP0r98q_aqDVwCLcB/s1600/1.JPG\" width=\"70%\"/>"
      ],
      "text/plain": [
       "<IPython.core.display.HTML object>"
      ]
     },
     "metadata": {},
     "output_type": "display_data"
    }
   ],
   "source": [
    "%%HTML\n",
    "<img src=\"https://4.bp.blogspot.com/-pUjc76RbEiE/V01K_GzWc1I/AAAAAAAAC4U/KAfRqWCv3GYMlH7esHhGgP0r98q_aqDVwCLcB/s1600/1.JPG\" width=\"70%\"/>"
   ]
  },
  {
   "cell_type": "markdown",
   "metadata": {},
   "source": [
    "* Além do volume e dos tipos de dados\n",
    "\n",
    "  => Previsões\n",
    "   \n",
    "  => Colocar o poder da análise nas mãos do usuário\n",
    "   \n",
    "  => Diminuição do custo das análises\n",
    "\n",
    "\n",
    "* Explosão dos dados\n",
    "\n",
    "  Terabyte a Yottabytes (por enquanto)\n",
    "  \n",
    "  Mais informação nos últimos dois anos que em toda a história anterior\n",
    "  \n",
    "  *Quanto tempo levará para a gente criar mais dados nas últimas duas horas que em toda a história anterior?*    \n"
   ]
  },
  {
   "cell_type": "markdown",
   "metadata": {},
   "source": [
    "### A Era do Big Data\n",
    "\n",
    "Sobre o que trata o Big Data?\n",
    "\n",
    "\n",
    "#### Análise em Tempo Real\n",
    "\n",
    "* Equipes da F1\n",
    "\n",
    "\n",
    "* Dados que expiram quase que na mesma velocidade em que são gerados"
   ]
  },
  {
   "cell_type": "code",
   "execution_count": 26,
   "metadata": {},
   "outputs": [
    {
     "data": {
      "text/html": [
       "<img src=\"img/all-ends-in-high-value.png\" width=\"45%\" />"
      ],
      "text/plain": [
       "<IPython.core.display.HTML object>"
      ]
     },
     "metadata": {},
     "output_type": "display_data"
    }
   ],
   "source": [
    "%%HTML\n",
    "<img src=\"img/all-ends-in-high-value.png\" width=\"45%\" />"
   ]
  },
  {
   "cell_type": "markdown",
   "metadata": {},
   "source": [
    "### Por Que as Soluções Tradicionais Não Funcionam?\n",
    "\n",
    "#### Soluções de Business Intelligence (BI)\n",
    "\n",
    "* Bancos de Dados Relacionais\n",
    "\n",
    "  => Baseadas em bancos de dados (BD) tradicionais \n",
    "  \n",
    "  => Dados estruturados ou semiestruturados\n",
    "  \n",
    "  => A organização dos dados é apropriada para Online Transaction Processing (OLTP), mas bem ineficiente para tarefas de análise\n",
    "  \n",
    "  \n",
    "####  O Escalamento Vertical é uma Solução?\n",
    "\n",
    "* O que você acha dessa solução? Quais as implicações?\n",
    "\n",
    "\n",
    "####  O Escalamento Horizontal é uma Solução?\n",
    "\n",
    "* O que você acha dessa solução? Quais as implicações?\n",
    "\n",
    "\n",
    "* Lei de Amdahl\n",
    "\n",
    "*O ganho de desempenho que pode ser obtido melhorando uma determinada parte do sistema é limitado pela fração de tempo que essa parte é utilizada pelo sistema durante a sua operação*\n",
    "\n",
    "$$S(N) = \\frac{1}{1-P+\\frac{P}{N}}$$"
   ]
  },
  {
   "cell_type": "code",
   "execution_count": 3,
   "metadata": {},
   "outputs": [
    {
     "data": {
      "text/html": [
       "<iframe width=\"560\" height=\"315\" src=\"https://www.youtube.com/embed/BxH93LTSOFo\" frameborder=\"0\" allow=\"autoplay; encrypted-media\" allowfullscreen></iframe>"
      ],
      "text/plain": [
       "<IPython.core.display.HTML object>"
      ]
     },
     "execution_count": 3,
     "metadata": {},
     "output_type": "execute_result"
    }
   ],
   "source": [
    "from IPython.display import HTML\n",
    "HTML('<iframe width=\"560\" height=\"315\" src=\"https://www.youtube.com/embed/BxH93LTSOFo\" frameborder=\"0\" allow=\"autoplay; encrypted-media\" allowfullscreen></iframe>')"
   ]
  },
  {
   "cell_type": "code",
   "execution_count": 11,
   "metadata": {},
   "outputs": [
    {
     "data": {
      "text/html": [
       "<iframe width=\"560\" height=\"315\" src=\"https://www.youtube.com/embed/swiwgi5HA0E?start=83\" frameborder=\"0\" allow=\"autoplay; encrypted-media\" allowfullscreen></iframe>"
      ],
      "text/plain": [
       "<IPython.core.display.HTML object>"
      ]
     },
     "execution_count": 11,
     "metadata": {},
     "output_type": "execute_result"
    }
   ],
   "source": [
    "from IPython.display import HTML\n",
    "HTML('<iframe width=\"560\" height=\"315\" src=\"https://www.youtube.com/embed/swiwgi5HA0E?start=83\" frameborder=\"0\" allow=\"autoplay; encrypted-media\" allowfullscreen></iframe>')"
   ]
  },
  {
   "cell_type": "markdown",
   "metadata": {},
   "source": [
    "### Soluções Distribuídas"
   ]
  },
  {
   "cell_type": "code",
   "execution_count": 7,
   "metadata": {},
   "outputs": [
    {
     "data": {
      "text/html": [
       "<img src=\"img/shared-nothing-comparison.jpg\" />"
      ],
      "text/plain": [
       "<IPython.core.display.HTML object>"
      ]
     },
     "metadata": {},
     "output_type": "display_data"
    }
   ],
   "source": [
    "%%HTML\n",
    "<img src=\"img/shared-nothing-comparison.jpg\" />"
   ]
  },
  {
   "cell_type": "code",
   "execution_count": 9,
   "metadata": {},
   "outputs": [
    {
     "data": {
      "text/html": [
       "<img src=\"img/shared-nothing-architecture.png\" width=\"50%\"/>"
      ],
      "text/plain": [
       "<IPython.core.display.HTML object>"
      ]
     },
     "metadata": {},
     "output_type": "display_data"
    }
   ],
   "source": [
    "%%HTML\n",
    "<img src=\"img/shared-nothing-architecture.png\" width=\"50%\"/>"
   ]
  },
  {
   "cell_type": "markdown",
   "metadata": {},
   "source": [
    "### Apache Hadoop\n",
    "\n",
    "* Software de Livre/Código Aberto da Apache Software Foundation\n",
    "\n",
    "\n",
    "* Padrão na indústria\n",
    "\n",
    "\n",
    "* Projetado para escalabilidade de até 1000 nós\n",
    "\n",
    "\n",
    "* Tolerante a falhas => falhas de hardware são normais\n",
    "\n",
    "\n",
    "* Para operações em lote (batch)\n",
    "\n",
    "\n",
    "#### Hadoop Distributed File System (HDFS)\n",
    "\n",
    "* Sistemas de arquivos distribuído\n",
    "\n",
    "\n",
    "* Projetado e otimizado para grandes volumes de dados e alta disponibilidade\n",
    "\n",
    "\n",
    "* É composto pelo armazenamento local dos nós do cluster\n",
    "\n",
    "\n",
    "* O HDFS inclui um servidor-mestre (NameNode), que particiona os dados originais e atribui os dados aos servidor\n",
    "\n",
    "\n",
    "* Cada nó no cluster armazena um fragmento do conjunto de dados. O nó que efetivamente armazena um fragmento dos dados é conhecido como DataNode.\n",
    "\n",
    "\n",
    "* O NameNode gerencia os metadados"
   ]
  },
  {
   "cell_type": "markdown",
   "metadata": {},
   "source": [
    "#### Hadoop MapReduce\n",
    "\n",
    "\n",
    "* Arquitetura master/slave\n",
    "\n",
    "\n",
    "* Existe uma unidade central "
   ]
  },
  {
   "cell_type": "markdown",
   "metadata": {},
   "source": [
    "#### YARN (Yet Another Resource Negotiator)\n",
    "\n",
    "* Desenvolvimento posterior do MapReduce (Hadoop 2.0)\n",
    "\n",
    "\n",
    "* Divide o gerenciamento de recursos do cluster entre dois agentes\n",
    "\n",
    "  => ResourceManager\n",
    "  \n",
    "  => ApplicationMaster"
   ]
  },
  {
   "cell_type": "markdown",
   "metadata": {},
   "source": [
    "### Subprojetos do Apache Hadoop"
   ]
  },
  {
   "cell_type": "code",
   "execution_count": 13,
   "metadata": {},
   "outputs": [
    {
     "data": {
      "text/html": [
       "<img src=\"img/apache-hadoop-subprojects.png\" width=\"75%\" />  "
      ],
      "text/plain": [
       "<IPython.core.display.HTML object>"
      ]
     },
     "metadata": {},
     "output_type": "display_data"
    }
   ],
   "source": [
    "%%HTML\n",
    "<img src=\"img/apache-hadoop-subprojects.png\" width=\"75%\" />  "
   ]
  },
  {
   "cell_type": "markdown",
   "metadata": {},
   "source": [
    "#### Pig\n",
    "\n",
    "  Pig e sua linguagem de scripts Pig Latin permitem a criação de scripts para queries e relatórios, que são compilados em tarefas MapReduce\n",
    "  \n",
    "  \n",
    "#### Hive\n",
    "\n",
    "Hive e sua linguagem de queries declarativa HiveQL são utilizadas para geração de queries específicas e geração de relatórios simplificados.\n",
    "  \n",
    "\n",
    "A compilação em tarefas MapReduce acontece automaticamente\n",
    "\n",
    "\n",
    "Hive pode processar dados tanto de arquivos-texto quanto do HBase (entre outros)\n",
    "\n",
    "\n",
    "#### Sqoop \n",
    "\n",
    "Utilizado para o carregamento de grandes volumes de dados de BDs relacionais para o HDFS e vice-versa\n",
    "\n",
    "\n",
    "#### Flume\n",
    "\n",
    "Utilizado para importação de fluxos de dados (data streams), tais como web logs (e outros) no HDFS\n",
    "\n",
    "\n",
    "#### Avro\n",
    "\n",
    "Serve para a serialização de dados estruturados. \n",
    "\n",
    "\n",
    "Os dados estruturados são convertidos em binário e colocados no HDFS em um formato compacto\n",
    "\n",
    "\n",
    "Os dados serializados contem informações sobre o esquema original\n",
    "\n",
    "\n",
    "#### Mahout\n",
    "\n",
    "É uma biblioteca para aprendizado de máquina (machine learning) e mineração de dados (data mining)\n",
    "\n",
    "\n",
    "#### Zookeeper\n",
    "\n",
    "É uma biblioteca de módulos que implementa a coordenação e sincronização de serviços em um cluster Hadoop\n",
    "\n",
    "\n",
    "#### Oozie\n",
    "\n",
    "Descreve fluxos de trabalho (workflows) considerando as dependências entre tarefas individuais\n",
    "\n",
    "\n",
    "#### Chukwa\n",
    "\n",
    "Monitora grandes ambientes Hadoop.\n",
    "\n",
    "Os dados de logs são coletados, processados e visualizados\n",
    "\n",
    "\n",
    "#### Ambari\n",
    "\n",
    "Permite o gerenciamento simplificado de ambientes Hadoop.\n",
    "\n",
    "\n",
    "Os DataNodes são monitorados com relação ao consumo de recursos e sua saúde (health status). \n",
    "\n",
    "\n",
    "#### Spark\n",
    "\n",
    "Permite carregar os dados do HDFS ou HBase na memória dos nós do cluster para um processamento mais rápido"
   ]
  },
  {
   "cell_type": "markdown",
   "metadata": {},
   "source": [
    "### Plataformas In-Memory\n",
    "\n",
    "\n",
    "* Acesso aos dados acelerados por um fator de 1.000 a 10.000.\n",
    "\n",
    "  Elimina a grande quantidade de I/O envolvido\n",
    "  \n",
    "  \n",
    "* Análises em tempo-real (ou quase real)\n",
    "\n",
    "  Essas análises poderiam demorar horas, dias ou semanas\n",
    "\n",
    "\n",
    "* Espelhamento de memória\n",
    "\n",
    "  => Mitiga o problema da volatilidade da memória\n",
    "    \n",
    "  => Os dados são copiados para outros nós de servidores\n",
    "  \n",
    "  \n",
    "* Replicação contínua da memória em disco\n",
    "\n",
    "  => Dynamic RAM (DRAM)\n",
    "  \n",
    "  => Solid State Disks (SSD)"
   ]
  },
  {
   "cell_type": "code",
   "execution_count": 21,
   "metadata": {},
   "outputs": [
    {
     "data": {
      "text/html": [
       "<img src=\"img/continuous-replication-memory-to-disk.png\" width=\"40%\">"
      ],
      "text/plain": [
       "<IPython.core.display.HTML object>"
      ]
     },
     "metadata": {},
     "output_type": "display_data"
    }
   ],
   "source": [
    "%%HTML\n",
    "<img src=\"img/continuous-replication-memory-to-disk.png\" width=\"40%\">"
   ]
  },
  {
   "cell_type": "markdown",
   "metadata": {},
   "source": [
    "#### Bancos de Dados In-Memory (IMDB)\n",
    "\n",
    "É um Banco de Dados todo carregado na memória\n",
    "\n",
    "\n",
    "* Opções de escalamento vertical e horizontal permanecem como opções\n",
    "\n",
    "\n",
    "* Algumas soluções oferecem as características transacionais (OLTP) em produção"
   ]
  },
  {
   "cell_type": "markdown",
   "metadata": {},
   "source": [
    "#### Grades de Dados In-Memory (In-Memory DataGrid)\n",
    "\n",
    "É uma área da memória principal onde se pode colocar grandes conjuntos de dados de armazenamento externo em vários servidores.\n",
    "\n",
    "* Gerencia dados não estruturados\n",
    "\n",
    "\n",
    "* Ao contrário dos IMDBs, não necessariamente cabe todo dentro da memória principal disponível\n",
    "\n",
    "\n",
    "* Pode ser espalhado entre múltiplos servidores\n",
    "\n",
    "\n",
    "* Tem um custo acessível com relação aos IMDBs\n",
    "\n",
    "\n",
    "* Utilizado quando não há grande frequência de atualização"
   ]
  },
  {
   "cell_type": "markdown",
   "metadata": {},
   "source": [
    "### Infraestruturas de Bancos de Dados Relacionais Otimizadas\n",
    "\n",
    "Como integrar a infraestrutura existente (legado) com a infraestrutura de análise de Big Data?\n",
    "\n",
    "* Caching\n",
    "\n",
    "  => Aumenta a performance das leituras\n",
    "  \n",
    "  => Necessita de mais memória e de mais ciclos de CPU\n",
    "  \n",
    "  \n",
    "* Discos de RAM\n",
    "\n",
    "  => Permite o uso da memória principal como se fosse um disco\n",
    "  \n",
    "  \n",
    "* SSD\n",
    "\n",
    "  => Maior performance que os HDs e com maior capacidade que as memórias\n",
    "  \n",
    "  \n",
    "* Memórias Flash Locais\n",
    "\n",
    "  => Ex: PCIe SSD\n",
    " \n",
    " \n",
    "* All-Flash-Array (AFA)\n",
    "\n",
    "  => Storage Array"
   ]
  },
  {
   "cell_type": "markdown",
   "metadata": {},
   "source": [
    "### Bancos de Dados de Big Data\n",
    "\n",
    "\n",
    "#### Bancos de dados NoSQL (Not only SQL)\n",
    "\n",
    "  => Não são baseados em esquemas rígidos\n",
    "  \n",
    "  => Distribuem a carga de trabalho entre os nós do cluster\n",
    "  \n",
    "  => Tolerante à falhas\n",
    "  \n",
    "  \n",
    "#### Bancos de Dados Chave-Valor\n",
    "\n",
    "  => Cada objeto (valor) possui uma chave de acesso\n",
    "  \n",
    "  => A estrutura dos valores não é interpretada pelo BD, mas pela aplicação\n",
    "\n",
    "\n",
    "#### Bancos de Dados de Documentos\n",
    "\n",
    "  => Similarmente, os documentos (valores) são referenciados por chaves\n",
    "  \n",
    "  => Todo documento é absolutamente livre de esquemas\n",
    "  \n",
    "  => Usado para armazenamento contíguo de dados\n",
    "  \n",
    "  \n",
    "#### Bancos de Dados Colunares\n"
   ]
  },
  {
   "cell_type": "code",
   "execution_count": 29,
   "metadata": {
    "scrolled": true
   },
   "outputs": [
    {
     "data": {
      "text/html": [
       "<iframe width=\"560\" height=\"315\" src=\"https://www.youtube.com/embed/8KGVFB3kVHQ?start=30\" frameborder=\"0\" allow=\"autoplay; encrypted-media\" allowfullscreen></iframe>"
      ],
      "text/plain": [
       "<IPython.core.display.HTML object>"
      ]
     },
     "execution_count": 29,
     "metadata": {},
     "output_type": "execute_result"
    }
   ],
   "source": [
    "from IPython.display import HTML\n",
    "HTML('<iframe width=\"560\" height=\"315\" src=\"https://www.youtube.com/embed/8KGVFB3kVHQ?start=30\" frameborder=\"0\" allow=\"autoplay; encrypted-media\" allowfullscreen></iframe>')"
   ]
  },
  {
   "cell_type": "markdown",
   "metadata": {},
   "source": [
    "#### Bancos de Dados de Grafos"
   ]
  },
  {
   "cell_type": "code",
   "execution_count": 33,
   "metadata": {},
   "outputs": [
    {
     "data": {
      "text/html": [
       "<img src=\"img/graph-databases.png\" width=\"50%\" />"
      ],
      "text/plain": [
       "<IPython.core.display.HTML object>"
      ]
     },
     "metadata": {},
     "output_type": "display_data"
    }
   ],
   "source": [
    "%%HTML\n",
    "<img src=\"img/graph-databases.png\" width=\"50%\" />"
   ]
  },
  {
   "cell_type": "markdown",
   "metadata": {},
   "source": [
    "### Complex Event Processing (CEP)\n",
    "\n",
    "* Dados em fluxo de movimento (streams)\n",
    "\n",
    "\n",
    "* Análise baseada em regras pré-definidas que incluem uma condição e uma ação\n",
    "\n",
    "\n",
    "* Condição satisfeita, evento disparado\n",
    "\n",
    "\n",
    "* Podem lidar com mais de 100.000 a milhões de eventos por segundo\n",
    "\n",
    "\n",
    "* Latência típica na casa dos microsegundos a milisegundos"
   ]
  },
  {
   "cell_type": "code",
   "execution_count": 35,
   "metadata": {},
   "outputs": [
    {
     "data": {
      "text/html": [
       "<img src=\"img/complex-event-processing.png\" width=\"50%\">"
      ],
      "text/plain": [
       "<IPython.core.display.HTML object>"
      ]
     },
     "metadata": {},
     "output_type": "display_data"
    }
   ],
   "source": [
    "%%HTML\n",
    "<img src=\"img/complex-event-processing.png\" width=\"50%\">"
   ]
  },
  {
   "cell_type": "markdown",
   "metadata": {},
   "source": [
    "### Arquitetura de Referência de Big Data\n",
    "\n",
    "* Representa uma maneira comum de utilizar as tecnologias apresentadas anteriormente\n",
    "\n",
    "\n",
    "* Não é obrigatório ter todos os elementos apresentados anteriormente"
   ]
  },
  {
   "cell_type": "code",
   "execution_count": 39,
   "metadata": {},
   "outputs": [
    {
     "data": {
      "text/html": [
       "<img src=\"img/bigdata-reference-architecture.png\" width=\"65%\" />"
      ],
      "text/plain": [
       "<IPython.core.display.HTML object>"
      ]
     },
     "metadata": {},
     "output_type": "display_data"
    }
   ],
   "source": [
    "%%HTML\n",
    "<img src=\"img/bigdata-reference-architecture.png\" width=\"65%\" />"
   ]
  }
 ],
 "metadata": {
  "kernelspec": {
   "display_name": "Python 3",
   "language": "python",
   "name": "python3"
  },
  "language_info": {
   "codemirror_mode": {
    "name": "ipython",
    "version": 3
   },
   "file_extension": ".py",
   "mimetype": "text/x-python",
   "name": "python",
   "nbconvert_exporter": "python",
   "pygments_lexer": "ipython3",
   "version": "3.6.4"
  }
 },
 "nbformat": 4,
 "nbformat_minor": 2
}
