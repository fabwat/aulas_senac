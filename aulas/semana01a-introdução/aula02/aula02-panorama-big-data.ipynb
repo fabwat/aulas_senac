{
 "cells": [
  {
   "cell_type": "markdown",
   "metadata": {},
   "source": [
    "# Arquitetura e *Analytics* de Big Data\n",
    "\n",
    "\n",
    "## Panorama de Big Data"
   ]
  },
  {
   "cell_type": "markdown",
   "metadata": {},
   "source": [
    "### A Importância Histórica dos Dados\n",
    "\n"
   ]
  },
  {
   "cell_type": "markdown",
   "metadata": {},
   "source": [
    "* Os Dados: Euclides"
   ]
  },
  {
   "cell_type": "code",
   "execution_count": 41,
   "metadata": {},
   "outputs": [
    {
     "data": {
      "text/html": [
       "<img src=\"https://idalab.de/wp-content/uploads/1_Euclid_Data_BnF.jpeg\" width=\"30%\" />"
      ],
      "text/plain": [
       "<IPython.core.display.HTML object>"
      ]
     },
     "metadata": {},
     "output_type": "display_data"
    }
   ],
   "source": [
    "%%HTML\n",
    "<img src=\"https://idalab.de/wp-content/uploads/1_Euclid_Data_BnF.jpeg\" width=\"30%\" />"
   ]
  },
  {
   "cell_type": "markdown",
   "metadata": {},
   "source": [
    "* Documentos medievais\n",
    "\n",
    "  => Data (calendário: datum)\n",
    "  \n",
    "  => Dados (fato)"
   ]
  },
  {
   "cell_type": "code",
   "execution_count": 42,
   "metadata": {},
   "outputs": [
    {
     "data": {
      "text/html": [
       "<img src=\"https://idalab.de/wp-content/uploads/2_MedievalDocuments_Marburg.png\" width=\"50%\" />"
      ],
      "text/plain": [
       "<IPython.core.display.HTML object>"
      ]
     },
     "metadata": {},
     "output_type": "display_data"
    }
   ],
   "source": [
    "%%HTML\n",
    "<img src=\"https://idalab.de/wp-content/uploads/2_MedievalDocuments_Marburg.png\" width=\"50%\" />"
   ]
  },
  {
   "cell_type": "markdown",
   "metadata": {},
   "source": [
    "* Dados binários\n",
    "\n",
    "  => Gottfried Leibniz - 1666\n",
    "  \n",
    "  => Misticismo: 1 é Deus; 0 é o Vazio"
   ]
  },
  {
   "cell_type": "code",
   "execution_count": 43,
   "metadata": {},
   "outputs": [
    {
     "data": {
      "text/html": [
       "<img src=\"https://upload.wikimedia.org/wikipedia/commons/5/5c/Fotothek_df_tg_0005486_Mathematik_%5E_Kombinatorik.jpg\" width=\"50%\">"
      ],
      "text/plain": [
       "<IPython.core.display.HTML object>"
      ]
     },
     "metadata": {},
     "output_type": "display_data"
    }
   ],
   "source": [
    "%%HTML\n",
    "<img src=\"https://upload.wikimedia.org/wikipedia/commons/5/5c/Fotothek_df_tg_0005486_Mathematik_%5E_Kombinatorik.jpg\" width=\"50%\">"
   ]
  },
  {
   "cell_type": "markdown",
   "metadata": {},
   "source": [
    "### Os Dados na História Mais Recente\n",
    "\n",
    "* Byte\n",
    "\n",
    "  => Cunhado por Werner Buchholz (IBM) 1956\n",
    "  \n",
    "  \n",
    "* Dados como fatos científicos e estatísticos\n",
    "\n",
    "  => Sempre produzidos por seres humanos"
   ]
  },
  {
   "cell_type": "markdown",
   "metadata": {},
   "source": [
    "### Momento de Disrupção\n",
    "\n",
    "* Recursos Humanos => valiosos\n",
    "\n",
    "\n",
    "* Poder de processamento (automação) => valioso\n",
    "\n",
    "\n",
    "* Dados => ?? "
   ]
  },
  {
   "cell_type": "markdown",
   "metadata": {},
   "source": [
    "### A Era do *Business Intelligence* (BI)\n",
    "\n",
    "Vantagens competitivas\n",
    "\n",
    "* Data Warehouses\n",
    "  \n",
    "  => Os dados são movidos para análise nos Data Warehouses (servidores dedicados)\n",
    "  \n",
    "  => Queries para análises e relatórios em geral\n",
    "  \n",
    "  => Fontes dados de dados históricas e internas transacionais\n",
    "  \n",
    "  => Modelos estáticos em processos batch\n",
    "  \n",
    "  => Requerem especialistas para a elaboração das queries"
   ]
  },
  {
   "cell_type": "markdown",
   "metadata": {},
   "source": [
    "### Demandas Atuais\n",
    "\n",
    "Vantagens competitivas\n",
    "\n",
    "* Novas Fontes e Novas Magnitudes\n",
    "\n",
    "  => Dados estruturados, quasiestruturados, semiestruturados, e não estruturados\n",
    "    \n",
    "   Blogs, cliques, conteúdo das mídias sociais, vídeos, fotos, audios e logs de sistemas. Além de sensores dentro dos smartphones, veículos, construções, sistemas robóticos, eletrodomésticos, RFIDs etc"
   ]
  },
  {
   "cell_type": "code",
   "execution_count": 16,
   "metadata": {},
   "outputs": [
    {
     "data": {
      "text/html": [
       "<img src=\"https://4.bp.blogspot.com/-pUjc76RbEiE/V01K_GzWc1I/AAAAAAAAC4U/KAfRqWCv3GYMlH7esHhGgP0r98q_aqDVwCLcB/s1600/1.JPG\" width=\"70%\"/>"
      ],
      "text/plain": [
       "<IPython.core.display.HTML object>"
      ]
     },
     "metadata": {},
     "output_type": "display_data"
    }
   ],
   "source": [
    "%%HTML\n",
    "<img src=\"https://4.bp.blogspot.com/-pUjc76RbEiE/V01K_GzWc1I/AAAAAAAAC4U/KAfRqWCv3GYMlH7esHhGgP0r98q_aqDVwCLcB/s1600/1.JPG\" width=\"70%\"/>"
   ]
  },
  {
   "cell_type": "markdown",
   "metadata": {},
   "source": [
    "* Além do volume e dos tipos de dados\n",
    "\n",
    "  => Previsões\n",
    "   \n",
    "  => Colocar o poder da análise nas mãos do usuário\n",
    "   \n",
    "  => Diminuição do custo das análises\n",
    "\n",
    "\n",
    "* Explosão dos dados\n",
    "\n",
    "  Terabyte a Yottabytes (por enquanto)\n",
    "  \n",
    "  Mais informação nos últimos dois anos que em toda a história anterior\n",
    "  \n",
    "  *Quanto tempo levará para a gente criar mais dados nas últimas duas horas que em toda a história anterior?*    \n"
   ]
  },
  {
   "cell_type": "markdown",
   "metadata": {},
   "source": [
    "### A Era do Big Data\n",
    "\n",
    "Sobre o que trata o Big Data?\n",
    "\n",
    "\n",
    "#### Análise em Tempo Real\n",
    "\n",
    "* Equipes da F1\n",
    "\n",
    "\n",
    "* Dados que expiram quase que na mesma velocidade em que são gerados"
   ]
  },
  {
   "cell_type": "code",
   "execution_count": 26,
   "metadata": {},
   "outputs": [
    {
     "data": {
      "text/html": [
       "<img src=\"img/all-ends-in-high-value.png\" width=\"45%\" />"
      ],
      "text/plain": [
       "<IPython.core.display.HTML object>"
      ]
     },
     "metadata": {},
     "output_type": "display_data"
    }
   ],
   "source": [
    "%%HTML\n",
    "<img src=\"img/all-ends-in-high-value.png\" width=\"45%\" />"
   ]
  },
  {
   "cell_type": "markdown",
   "metadata": {},
   "source": [
    "### Por Que as Soluções Tradicionais Não Funcionam?\n",
    "\n",
    "#### Soluções de Business Intelligence (BI)\n",
    "\n",
    "* Bancos de Dados Relacionais\n",
    "\n",
    "  => Baseadas em bancos de dados (BD) tradicionais \n",
    "  \n",
    "  => Dados estruturados ou semiestruturados\n",
    "  \n",
    "  => A organização dos dados é apropriada para Online Transaction Processing (OLTP), mas bem ineficiente para tarefas de análise\n",
    "  \n",
    "  \n",
    "####  O Escalamento Vertical é uma Solução?\n",
    "\n",
    "* O que você acha dessa solução? Quais as implicações?\n",
    "\n",
    "\n",
    "####  O Escalamento Horizontal é uma Solução?\n",
    "\n",
    "* O que você acha dessa solução? Quais as implicações?\n",
    "\n",
    "\n",
    "* Lei de Amdahl\n",
    "\n",
    "*O ganho de desempenho que pode ser obtido melhorando uma determinada parte do sistema é limitado pela fração de tempo que essa parte é utilizada pelo sistema durante a sua operação*\n",
    "\n",
    "$$S(N) = \\frac{1}{1-P+\\frac{P}{N}}$$"
   ]
  },
  {
   "cell_type": "code",
   "execution_count": 1,
   "metadata": {},
   "outputs": [
    {
     "data": {
      "text/html": [
       "<iframe width=\"560\" height=\"315\" src=\"https://www.youtube.com/embed/BxH93LTSOFo\" frameborder=\"0\" allow=\"autoplay; encrypted-media\" allowfullscreen></iframe>"
      ],
      "text/plain": [
       "<IPython.core.display.HTML object>"
      ]
     },
     "execution_count": 1,
     "metadata": {},
     "output_type": "execute_result"
    }
   ],
   "source": [
    "from IPython.display import HTML\n",
    "HTML('<iframe width=\"560\" height=\"315\" src=\"https://www.youtube.com/embed/BxH93LTSOFo\" frameborder=\"0\" allow=\"autoplay; encrypted-media\" allowfullscreen></iframe>')"
   ]
  },
  {
   "cell_type": "code",
   "execution_count": 2,
   "metadata": {},
   "outputs": [
    {
     "data": {
      "text/html": [
       "<iframe width=\"560\" height=\"315\" src=\"https://www.youtube.com/embed/swiwgi5HA0E?start=83\" frameborder=\"0\" allow=\"autoplay; encrypted-media\" allowfullscreen></iframe>"
      ],
      "text/plain": [
       "<IPython.core.display.HTML object>"
      ]
     },
     "execution_count": 2,
     "metadata": {},
     "output_type": "execute_result"
    }
   ],
   "source": [
    "from IPython.display import HTML\n",
    "HTML('<iframe width=\"560\" height=\"315\" src=\"https://www.youtube.com/embed/swiwgi5HA0E?start=83\" frameborder=\"0\" allow=\"autoplay; encrypted-media\" allowfullscreen></iframe>')"
   ]
  },
  {
   "cell_type": "markdown",
   "metadata": {},
   "source": [
    "### Soluções Distribuídas"
   ]
  },
  {
   "cell_type": "code",
   "execution_count": 7,
   "metadata": {},
   "outputs": [
    {
     "data": {
      "text/html": [
       "<img src=\"img/shared-nothing-comparison.jpg\" />"
      ],
      "text/plain": [
       "<IPython.core.display.HTML object>"
      ]
     },
     "metadata": {},
     "output_type": "display_data"
    }
   ],
   "source": [
    "%%HTML\n",
    "<img src=\"img/shared-nothing-comparison.jpg\" />"
   ]
  },
  {
   "cell_type": "code",
   "execution_count": 9,
   "metadata": {},
   "outputs": [
    {
     "data": {
      "text/html": [
       "<img src=\"img/shared-nothing-architecture.png\" width=\"50%\"/>"
      ],
      "text/plain": [
       "<IPython.core.display.HTML object>"
      ]
     },
     "metadata": {},
     "output_type": "display_data"
    }
   ],
   "source": [
    "%%HTML\n",
    "<img src=\"img/shared-nothing-architecture.png\" width=\"50%\"/>"
   ]
  },
  {
   "cell_type": "markdown",
   "metadata": {},
   "source": [
    "### Apache Hadoop\n",
    "\n",
    "* Software de Livre/Código Aberto da Apache Software Foundation\n",
    "\n",
    "\n",
    "* Padrão na indústria\n",
    "\n",
    "\n",
    "* Projetado para escalabilidade de até 1000 nós\n",
    "\n",
    "\n",
    "* Tolerante a falhas => falhas de hardware são normais\n",
    "\n",
    "\n",
    "* Para operações em lote (batch)\n",
    "\n",
    "\n",
    "#### Hadoop Distributed File System (HDFS)\n",
    "\n",
    "* Sistemas de arquivos distribuído\n",
    "\n",
    "\n",
    "* Projetado e otimizado para grandes volumes de dados e alta disponibilidade\n",
    "\n",
    "\n",
    "* É composto pelo armazenamento local dos nós do cluster\n",
    "\n",
    "\n",
    "* O HDFS inclui um servidor-mestre (NameNode), que particiona os dados originais e atribui os dados aos servidor\n",
    "\n",
    "\n",
    "* Cada nó no cluster armazena um fragmento do conjunto de dados. O nó que efetivamente armazena um fragmento dos dados é conhecido como DataNode.\n",
    "\n",
    "\n",
    "* O NameNode gerencia os metadados"
   ]
  },
  {
   "cell_type": "markdown",
   "metadata": {},
   "source": [
    "#### Hadoop MapReduce\n",
    "\n",
    "\n",
    "* Arquitetura master/slave\n",
    "\n",
    "\n",
    "* Existe uma unidade central "
   ]
  },
  {
   "cell_type": "markdown",
   "metadata": {},
   "source": [
    "#### YARN (Yet Another Resource Negotiator)\n",
    "\n",
    "* Desenvolvimento posterior do MapReduce (Hadoop 2.0)\n",
    "\n",
    "\n",
    "* Divide o gerenciamento de recursos do cluster entre dois agentes\n",
    "\n",
    "  => ResourceManager\n",
    "  \n",
    "  => ApplicationMaster"
   ]
  }
 ],
 "metadata": {
  "kernelspec": {
   "display_name": "Python 3",
   "language": "python",
   "name": "python3"
  },
  "language_info": {
   "codemirror_mode": {
    "name": "ipython",
    "version": 3
   },
   "file_extension": ".py",
   "mimetype": "text/x-python",
   "name": "python",
   "nbconvert_exporter": "python",
   "pygments_lexer": "ipython3",
   "version": "3.6.4"
  }
 },
 "nbformat": 4,
 "nbformat_minor": 2
}
