{
 "cells": [
  {
   "cell_type": "markdown",
   "metadata": {},
   "source": [
    "# Arquitetura e *Analytics* de Big Data\n",
    "\n",
    "\n",
    "## Panorama de Big Data - Parte2"
   ]
  },
  {
   "cell_type": "markdown",
   "metadata": {},
   "source": [
    "### Subprojetos do Apache Hadoop"
   ]
  },
  {
   "cell_type": "code",
   "execution_count": 8,
   "metadata": {},
   "outputs": [
    {
     "data": {
      "text/html": [
       "<img src=\"img/apache-hadoop-subprojects.png\" width=\"60%\" />  "
      ],
      "text/plain": [
       "<IPython.core.display.HTML object>"
      ]
     },
     "metadata": {},
     "output_type": "display_data"
    }
   ],
   "source": [
    "%%HTML\n",
    "<img src=\"img/apache-hadoop-subprojects.png\" width=\"60%\" />  "
   ]
  },
  {
   "cell_type": "markdown",
   "metadata": {},
   "source": [
    "#### Pig\n",
    "\n",
    "Pig e sua linguagem de scripts Pig Latin permitem a criação de scripts para queries e relatórios, que são compilados em tarefas MapReduce\n",
    "  \n",
    "  \n",
    "#### Hive\n",
    "\n",
    "Hive e sua linguagem de queries declarativa HiveQL são utilizadas para geração de queries específicas e geração de relatórios simplificados.\n",
    "  \n",
    "\n",
    "A compilação em tarefas MapReduce acontece automaticamente\n",
    "\n",
    "\n",
    "Hive pode processar dados tanto de arquivos-texto quanto do HBase (entre outros)\n",
    "\n",
    "\n",
    "#### Sqoop \n",
    "\n",
    "Utilizado para o carregamento de grandes volumes de dados de BDs relacionais para o HDFS e vice-versa\n",
    "\n",
    "\n",
    "#### Flume\n",
    "\n",
    "Utilizado para importação de fluxos de dados (data streams), tais como web logs (e outros) no HDFS\n",
    "\n",
    "\n",
    "#### Avro\n",
    "\n",
    "Serve para a serialização de dados estruturados. \n",
    "\n",
    "\n",
    "Os dados estruturados são convertidos em binário e colocados no HDFS em um formato compacto\n",
    "\n",
    "\n",
    "Os dados serializados contem informações sobre o esquema original\n",
    "\n",
    "\n",
    "#### Mahout\n",
    "\n",
    "É uma biblioteca para aprendizado de máquina (machine learning) e mineração de dados (data mining)\n",
    "\n",
    "\n",
    "#### Zookeeper\n",
    "\n",
    "É uma biblioteca de módulos que implementa a coordenação e sincronização de serviços em um cluster Hadoop\n",
    "\n",
    "\n",
    "#### Oozie\n",
    "\n",
    "Descreve fluxos de trabalho (workflows) considerando as dependências entre tarefas individuais\n",
    "\n",
    "\n",
    "#### Chukwa\n",
    "\n",
    "Monitora grandes ambientes Hadoop.\n",
    "\n",
    "Os dados de logs são coletados, processados e visualizados\n",
    "\n",
    "\n",
    "#### Ambari\n",
    "\n",
    "Permite o gerenciamento simplificado de ambientes Hadoop.\n",
    "\n",
    "\n",
    "Os DataNodes são monitorados com relação ao consumo de recursos e sua saúde (health status). \n",
    "\n",
    "\n",
    "#### Spark\n",
    "\n",
    "Permite carregar os dados do HDFS ou HBase na memória dos nós do cluster para um processamento mais rápido"
   ]
  },
  {
   "cell_type": "markdown",
   "metadata": {},
   "source": [
    "### Plataformas In-Memory\n",
    "\n",
    "\n",
    "* Acesso aos dados acelerados por um fator de 1.000 a 10.000.\n",
    "\n",
    "  Elimina a grande quantidade de I/O envolvido\n",
    "  \n",
    "  \n",
    "* Análises em tempo-real (ou quase real)\n",
    "\n",
    "  Essas análises poderiam demorar horas, dias ou semanas\n",
    "\n",
    "\n",
    "* Espelhamento de memória\n",
    "\n",
    "  => Mitiga o problema da volatilidade da memória\n",
    "    \n",
    "  => Os dados são copiados para outros nós de servidores\n",
    "  \n",
    "  \n",
    "* Replicação contínua da memória em disco\n",
    "\n",
    "  => Dynamic RAM (DRAM)\n",
    "  \n",
    "  => Solid State Disks (SSD)"
   ]
  },
  {
   "cell_type": "code",
   "execution_count": 1,
   "metadata": {},
   "outputs": [
    {
     "data": {
      "text/html": [
       "<img src=\"img/continuous-replication-memory-to-disk.png\" width=\"40%\">"
      ],
      "text/plain": [
       "<IPython.core.display.HTML object>"
      ]
     },
     "metadata": {},
     "output_type": "display_data"
    }
   ],
   "source": [
    "%%HTML\n",
    "<img src=\"img/continuous-replication-memory-to-disk.png\" width=\"40%\">"
   ]
  },
  {
   "cell_type": "markdown",
   "metadata": {},
   "source": [
    "#### Bancos de Dados In-Memory (IMDB)\n",
    "\n",
    "É um Banco de Dados todo carregado na memória\n",
    "\n",
    "\n",
    "* Opções de escalamento vertical e horizontal permanecem como opções\n",
    "\n",
    "\n",
    "* Algumas soluções oferecem as características transacionais (OLTP) em produção"
   ]
  },
  {
   "cell_type": "markdown",
   "metadata": {},
   "source": [
    "#### Grades de Dados In-Memory (In-Memory DataGrid)\n",
    "\n",
    "É uma área da memória principal onde se pode colocar grandes conjuntos de dados de armazenamento externo em vários servidores.\n",
    "\n",
    "* Gerencia dados não estruturados\n",
    "\n",
    "\n",
    "* Ao contrário dos IMDBs, não necessariamente cabe todo dentro da memória principal disponível\n",
    "\n",
    "\n",
    "* Pode ser espalhado entre múltiplos servidores\n",
    "\n",
    "\n",
    "* Tem um custo acessível com relação aos IMDBs\n",
    "\n",
    "\n",
    "* Utilizado quando não há grande frequência de atualização"
   ]
  },
  {
   "cell_type": "markdown",
   "metadata": {},
   "source": [
    "### Infraestruturas de Bancos de Dados Relacionais Otimizadas\n",
    "\n",
    "Como integrar a infraestrutura existente (legado) com a infraestrutura de análise de Big Data?\n",
    "\n",
    "* Caching\n",
    "\n",
    "  => Aumenta a performance das leituras\n",
    "  \n",
    "  => Necessita de mais memória e de mais ciclos de CPU\n",
    "  \n",
    "  \n",
    "* Discos de RAM\n",
    "\n",
    "  => Permite o uso da memória principal como se fosse um disco\n",
    "  \n",
    "  \n",
    "* SSD\n",
    "\n",
    "  => Maior performance que os HDs e com maior capacidade que as memórias\n",
    "  \n",
    "  \n",
    "* Memórias Flash Locais\n",
    "\n",
    "  => Ex: PCIe SSD\n",
    " \n",
    " \n",
    "* All-Flash-Array (AFA)\n",
    "\n",
    "  => Storage Array"
   ]
  },
  {
   "cell_type": "markdown",
   "metadata": {},
   "source": [
    "### Bancos de Dados de Big Data\n",
    "\n",
    "\n",
    "#### Bancos de dados NoSQL (Not only SQL)\n",
    "\n",
    "  => Não são baseados em esquemas rígidos\n",
    "  \n",
    "  => Distribuem a carga de trabalho entre os nós do cluster\n",
    "  \n",
    "  => Tolerante à falhas\n",
    "  \n",
    "  \n",
    "#### Bancos de Dados Chave-Valor\n",
    "\n",
    "  => Cada objeto (valor) possui uma chave de acesso\n",
    "  \n",
    "  => A estrutura dos valores não é interpretada pelo BD, mas pela aplicação\n",
    "\n",
    "\n",
    "#### Bancos de Dados de Documentos\n",
    "\n",
    "  => Similarmente, os documentos (valores) são referenciados por chaves\n",
    "  \n",
    "  => Todo documento é absolutamente livre de esquemas\n",
    "  \n",
    "  => Usado para armazenamento contíguo de dados\n",
    "  \n",
    "  \n",
    "#### Bancos de Dados Colunares\n"
   ]
  },
  {
   "cell_type": "code",
   "execution_count": 3,
   "metadata": {
    "scrolled": true
   },
   "outputs": [
    {
     "data": {
      "text/html": [
       "<iframe width=\"560\" height=\"315\" src=\"https://www.youtube.com/embed/8KGVFB3kVHQ?start=30\" frameborder=\"0\" allow=\"autoplay; encrypted-media\" allowfullscreen></iframe>"
      ],
      "text/plain": [
       "<IPython.core.display.HTML object>"
      ]
     },
     "execution_count": 3,
     "metadata": {},
     "output_type": "execute_result"
    }
   ],
   "source": [
    "from IPython.display import HTML\n",
    "HTML('<iframe width=\"560\" height=\"315\" src=\"https://www.youtube.com/embed/8KGVFB3kVHQ?start=30\" frameborder=\"0\" allow=\"autoplay; encrypted-media\" allowfullscreen></iframe>')"
   ]
  },
  {
   "cell_type": "markdown",
   "metadata": {},
   "source": [
    "#### Bancos de Dados de Grafos"
   ]
  },
  {
   "cell_type": "code",
   "execution_count": 4,
   "metadata": {},
   "outputs": [
    {
     "data": {
      "text/html": [
       "<img src=\"img/graph-databases.png\" width=\"50%\" />"
      ],
      "text/plain": [
       "<IPython.core.display.HTML object>"
      ]
     },
     "metadata": {},
     "output_type": "display_data"
    }
   ],
   "source": [
    "%%HTML\n",
    "<img src=\"img/graph-databases.png\" width=\"50%\" />"
   ]
  },
  {
   "cell_type": "markdown",
   "metadata": {},
   "source": [
    "### Complex Event Processing (CEP)\n",
    "\n",
    "* Dados em fluxo de movimento (streams)\n",
    "\n",
    "\n",
    "* Análise baseada em regras pré-definidas que incluem uma condição e uma ação\n",
    "\n",
    "\n",
    "* Condição satisfeita, evento disparado\n",
    "\n",
    "\n",
    "* Podem lidar com mais de 100.000 a milhões de eventos por segundo\n",
    "\n",
    "\n",
    "* Latência típica na casa dos microsegundos a milisegundos"
   ]
  },
  {
   "cell_type": "code",
   "execution_count": 5,
   "metadata": {},
   "outputs": [
    {
     "data": {
      "text/html": [
       "<img src=\"img/complex-event-processing.png\" width=\"50%\">"
      ],
      "text/plain": [
       "<IPython.core.display.HTML object>"
      ]
     },
     "metadata": {},
     "output_type": "display_data"
    }
   ],
   "source": [
    "%%HTML\n",
    "<img src=\"img/complex-event-processing.png\" width=\"50%\">"
   ]
  },
  {
   "cell_type": "markdown",
   "metadata": {},
   "source": [
    "### Arquitetura de Referência de Big Data\n",
    "\n",
    "* Representa uma maneira comum de utilizar as tecnologias apresentadas anteriormente\n",
    "\n",
    "\n",
    "* Não é obrigatório ter todos os elementos apresentados anteriormente"
   ]
  },
  {
   "cell_type": "code",
   "execution_count": 6,
   "metadata": {},
   "outputs": [
    {
     "data": {
      "text/html": [
       "<img src=\"img/bigdata-reference-architecture.png\" width=\"65%\" />"
      ],
      "text/plain": [
       "<IPython.core.display.HTML object>"
      ]
     },
     "metadata": {},
     "output_type": "display_data"
    }
   ],
   "source": [
    "%%HTML\n",
    "<img src=\"img/bigdata-reference-architecture.png\" width=\"65%\" />"
   ]
  }
 ],
 "metadata": {
  "kernelspec": {
   "display_name": "Python 3",
   "language": "python",
   "name": "python3"
  },
  "language_info": {
   "codemirror_mode": {
    "name": "ipython",
    "version": 3
   },
   "file_extension": ".py",
   "mimetype": "text/x-python",
   "name": "python",
   "nbconvert_exporter": "python",
   "pygments_lexer": "ipython3",
   "version": "3.6.4"
  }
 },
 "nbformat": 4,
 "nbformat_minor": 2
}
