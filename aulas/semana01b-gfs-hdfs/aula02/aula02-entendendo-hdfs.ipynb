{
 "cells": [
  {
   "cell_type": "markdown",
   "metadata": {},
   "source": [
    "# Sistemas de Arquivos Distribuídos"
   ]
  },
  {
   "cell_type": "markdown",
   "metadata": {},
   "source": [
    "## Hadoop Distributed File System (HDFS)"
   ]
  },
  {
   "cell_type": "markdown",
   "metadata": {},
   "source": [
    "### Os Papeis que os Servidores Podem Assumir no Hadoop\n",
    "\n",
    "\n",
    "* JobTracker (Hadoop v1)\n",
    "\n",
    "\n",
    "* NameNode\n",
    "\n",
    "\n",
    "* DataTracker"
   ]
  },
  {
   "cell_type": "markdown",
   "metadata": {},
   "source": [
    "<img src=\"img/hadoop-server-roles.png\" width=\"50%\">"
   ]
  },
  {
   "cell_type": "markdown",
   "metadata": {},
   "source": [
    "### Um Cluster Real do Yahoo (Foto) e Google (Video)"
   ]
  },
  {
   "cell_type": "markdown",
   "metadata": {},
   "source": [
    "<img src=\"img/hadoop-yahoo-real-cluster.jpg\" width=\"50%\" />"
   ]
  },
  {
   "cell_type": "code",
   "execution_count": 1,
   "metadata": {},
   "outputs": [
    {
     "data": {
      "text/html": [
       "<iframe width=\"560\" height=\"315\" src=\"https://www.youtube.com/embed/XZmGGAbHqa0\" frameborder=\"0\" allow=\"autoplay; encrypted-media\" allowfullscreen></iframe>"
      ],
      "text/plain": [
       "<IPython.core.display.HTML object>"
      ]
     },
     "execution_count": 1,
     "metadata": {},
     "output_type": "execute_result"
    }
   ],
   "source": [
    "from IPython.display import HTML\n",
    "HTML('<iframe width=\"560\" height=\"315\" src=\"https://www.youtube.com/embed/XZmGGAbHqa0\" frameborder=\"0\" allow=\"autoplay; encrypted-media\" allowfullscreen></iframe>')"
   ]
  },
  {
   "cell_type": "markdown",
   "metadata": {},
   "source": [
    "<img src=\"img/single_multiple_cisco_rack.jpg\" width=\"80%\" />"
   ]
  },
  {
   "cell_type": "markdown",
   "metadata": {},
   "source": [
    "### Hadoop Cluster\n",
    "\n",
    "* NameNode, JobTracker e o NameNode secunário ficam em máquinas separadas"
   ]
  },
  {
   "cell_type": "markdown",
   "metadata": {},
   "source": [
    "<img src=\"img/hadoop-cluster.png\" width=\"50%\" />"
   ]
  },
  {
   "cell_type": "markdown",
   "metadata": {},
   "source": [
    "### Fluxo de Trabalho Típico\n",
    "\n",
    "1. Carregar os dados no cluster (escrita HDFS)\n",
    "\n",
    "\n",
    "2. Analisar os dados (MapReduce)\n",
    "\n",
    "\n",
    "3. Armazena os resultados no cluster (escrita HDFS)\n",
    "\n",
    "\n",
    "4. Ler os resultados do cluster (leitura HDFS)"
   ]
  },
  {
   "cell_type": "markdown",
   "metadata": {},
   "source": [
    "<img src=\"img/typical-workflow.png\" width=\"50%\" />"
   ]
  },
  {
   "cell_type": "markdown",
   "metadata": {},
   "source": [
    "### Escrevendo arquivos para o HDFS\n",
    "\n",
    "1. Cliente consulta o NameNode\n",
    "\n",
    "\n",
    "2. Cliente escreve os blocos diretamente no DataNode\n",
    "\n",
    "\n",
    "3. Os DataNodes replicam os blocos\n",
    "\n",
    "\n",
    "4. O ciclo se repete para o próximo bloco"
   ]
  },
  {
   "cell_type": "markdown",
   "metadata": {},
   "source": [
    "<img src=\"img/writing-files-to-hdfs.png\" width=\"50%\" />"
   ]
  },
  {
   "cell_type": "markdown",
   "metadata": {},
   "source": [
    "### Hadoop Rack Awareness\n",
    "\n",
    "1. Nunca perder todos os dados se um Rack falhar\n",
    "\n",
    "\n",
    "2. Procura manter a cópia dos blocos no mesmo Rack\n",
    "\n",
    "\n",
    "3. O algoritmo assume que a largura de banda é maior dentro do rack, o que significa latência menor"
   ]
  },
  {
   "cell_type": "markdown",
   "metadata": {},
   "source": [
    "<img src=\"img/hadoop-rack-awareness.png\" width=\"50%\" />"
   ]
  },
  {
   "cell_type": "markdown",
   "metadata": {},
   "source": [
    "### Preparação da escrita no HDFS\n",
    "\n",
    "1. Os NameNodes informam ao cliente quais os DataNodes que o cliente pode escrever"
   ]
  },
  {
   "cell_type": "markdown",
   "metadata": {},
   "source": [
    "<img src=\"img/preparing-hdfs-writes.png\" width=\"50%\" />"
   ]
  },
  {
   "cell_type": "markdown",
   "metadata": {},
   "source": [
    "### Escrita por Pipelines\n",
    "\n",
    "1. Na primeira figura, o NameNode informa quais DataNodes serão disponibilizados para o cliente\n",
    "\n",
    "\n",
    "2. Na segunda figura, os DataNodes confirmam ao NameNode e ao cliente que a cópia foi bem sucedida\n",
    "\n",
    "\n",
    "3. Ao fim do processo, o Cliente informa ao NameNode que a escrita foi bem sucedida"
   ]
  },
  {
   "cell_type": "markdown",
   "metadata": {},
   "source": [
    "<img src=\"img/pipelined-write.png\" width=\"50%\" />"
   ]
  },
  {
   "cell_type": "markdown",
   "metadata": {},
   "source": [
    "<img src=\"img/pipelined-write-2.png\" width=\"50%\" />"
   ]
  },
  {
   "cell_type": "markdown",
   "metadata": {},
   "source": [
    "### Replicação Pipeline em Múltiplos Blocos\n",
    "\n",
    "\n",
    "1. Os blocos A, B e C iniciam paralelamente em Racks diferentes (shared-nothing architecture)"
   ]
  },
  {
   "cell_type": "markdown",
   "metadata": {},
   "source": [
    "<img src=\"img/multiblock-replication-pipeline.png\" width=\"50%\" />"
   ]
  },
  {
   "cell_type": "markdown",
   "metadata": {},
   "source": [
    "### Replicação pelo Cluster"
   ]
  },
  {
   "cell_type": "markdown",
   "metadata": {},
   "source": [
    "<img src=\"img/client-writes-span-the-hdfs-cluster.png\" width=\"50%\" />"
   ]
  },
  {
   "cell_type": "markdown",
   "metadata": {},
   "source": [
    "### NameNode\n",
    "\n",
    "1. Os DataNodes enviam pulsos ao NameNode para indicar que estão vivos\n",
    "\n",
    "\n",
    "2. Todo décimo pulso é um relatório de bloco\n",
    "\n",
    "\n",
    "3. O NameNode utiliza essas informações para construir os metadados sobre o DataNodes\n",
    "\n",
    "\n",
    "4. TCP a cada 3 segundos\n",
    "\n",
    "\n",
    "5. Ponto de falha: Se o NameNode cair, o HDFS cai junto"
   ]
  },
  {
   "cell_type": "markdown",
   "metadata": {},
   "source": [
    "<img src=\"img/name-node.png\" width=\"50%\" />"
   ]
  },
  {
   "cell_type": "markdown",
   "metadata": {},
   "source": [
    "### Replicando répicas faltantes\n",
    "\n",
    "1. A ausência de pulsos indica a perda de nós\n",
    "\n",
    "\n",
    "2. O NameNode consulta os metadados e encontra os dados afetados\n",
    "\n",
    "\n",
    "3. O NameNode consulta o algoritmo Rack Awareness\n",
    "\n",
    "\n",
    "4. O NameNode diz ao DataNode (que não caiu) para se autorreplicar"
   ]
  },
  {
   "cell_type": "markdown",
   "metadata": {},
   "source": [
    "<img src=\"img/re-replicating-missing-replicas.png\" width=\"50%\" />"
   ]
  },
  {
   "cell_type": "markdown",
   "metadata": {},
   "source": [
    "### O NameNode Secundário\n",
    "\n",
    "* Não é um backup para uma emergência com o NameNode\n",
    "\n",
    "\n",
    "* É um ajudante do NameNode que faz checkpoints. \n",
    "\n",
    "\n",
    "* Não pode substituir o NameNode em caso de falha, mas o trabalho do NameNode secundário faz com que o NameNode reinicie mais rápido"
   ]
  },
  {
   "cell_type": "markdown",
   "metadata": {},
   "source": [
    "<img src=\"img/secondary-name-node.png\" width=\"50%\" />"
   ]
  },
  {
   "cell_type": "markdown",
   "metadata": {},
   "source": [
    "### Cliente lendo arquivos do HDFS\n",
    "\n",
    "1.  O cliente recebe a lista do DataNode para cada bloco\n",
    "\n",
    "\n",
    "2. O cliente pega o primeiro DataNode para cada bloco\n",
    "\n",
    "\n",
    "3. O Cliente lê os blocos sequencialmente"
   ]
  },
  {
   "cell_type": "markdown",
   "metadata": {},
   "source": [
    "<img src=\"img/client-reading-files-from-hdfs.png\" width=\"50%\" />"
   ]
  },
  {
   "cell_type": "markdown",
   "metadata": {},
   "source": [
    "### Cluster Deslanceado\n",
    "\n",
    "1. Um cluster pode ficar desbalanceado quando adicionamos novos racks\n",
    "\n",
    "\n",
    "2. Em situação estacionária, os dados não irão se espalhar pelo cluster automaticamente"
   ]
  },
  {
   "cell_type": "markdown",
   "metadata": {},
   "source": [
    "<img src=\"img/unbalanced-cluster.png\" width=\"50%\" />"
   ]
  },
  {
   "cell_type": "markdown",
   "metadata": {},
   "source": [
    "### Balanceamento do Cluster\n",
    "\n",
    "1. O espalhamento acontece quando adicionamos mais dados ou quando um DataNode recebe uma tarefa MapReduce e não possui os dados (Quando os racks 1 e 2 estiverem muito ocupados)"
   ]
  },
  {
   "cell_type": "markdown",
   "metadata": {},
   "source": [
    "<img src=\"img/cluster-balancing.png\" width=\"50%\" />"
   ]
  }
 ],
 "metadata": {
  "kernelspec": {
   "display_name": "Python 3",
   "language": "python",
   "name": "python3"
  },
  "language_info": {
   "codemirror_mode": {
    "name": "ipython",
    "version": 3
   },
   "file_extension": ".py",
   "mimetype": "text/x-python",
   "name": "python",
   "nbconvert_exporter": "python",
   "pygments_lexer": "ipython3",
   "version": "3.6.5"
  }
 },
 "nbformat": 4,
 "nbformat_minor": 2
}
