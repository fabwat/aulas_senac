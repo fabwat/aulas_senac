{
 "cells": [
  {
   "cell_type": "markdown",
   "metadata": {},
   "source": [
    "# Hadoop Distributed File System (HDFS)\n",
    "\n",
    "## Na Prática - Comandos Básicos"
   ]
  },
  {
   "cell_type": "markdown",
   "metadata": {},
   "source": [
    "### Interagindo com o HDFS\n",
    "\n",
    "Interagimos com o HDFS utilizando o comando `hdfs`, que possui a seguinte estrutura:"
   ]
  },
  {
   "cell_type": "markdown",
   "metadata": {},
   "source": [
    "```bash\n",
    "hdfs COMMAND [-option <arg>]\n",
    "```"
   ]
  },
  {
   "cell_type": "markdown",
   "metadata": {},
   "source": [
    "### Operações Comuns\n"
   ]
  },
  {
   "cell_type": "markdown",
   "metadata": {},
   "source": [
    "#### Listar o conteúdo de um diretório\n",
    "\n",
    "```bash\n",
    "hdfs dfs -ls\n",
    "```"
   ]
  },
  {
   "cell_type": "markdown",
   "metadata": {},
   "source": [
    "#### Criar diretórios\n",
    "\n",
    "```bash\n",
    "hdfs dfs -mkdir /user\n",
    "```\n",
    "\n",
    "```bash\n",
    "hdfs dfs -mkdir /user/hduser\n",
    "```"
   ]
  },
  {
   "cell_type": "markdown",
   "metadata": {},
   "source": [
    "#### Copiando Dados para o HDFS\n",
    "\n",
    "```bash\n",
    "hdfs dfs -put /home/hduser/input.txt /user/hduser\n",
    "```"
   ]
  },
  {
   "cell_type": "markdown",
   "metadata": {},
   "source": [
    "#### Extraindo Dados do HDFS\n",
    "\n",
    "```bash\n",
    "hdfs dfs -get input.txt /home/hduser\n",
    "```"
   ]
  },
  {
   "cell_type": "markdown",
   "metadata": {},
   "source": [
    "#### Referência de Comandos HDFS\n",
    "\n",
    "```bash\n",
    "hdfs dfs -usage\n",
    "```"
   ]
  },
  {
   "cell_type": "markdown",
   "metadata": {},
   "source": [
    "```bash\n",
    "Usage: hadoop fs [generic options]\n",
    "\t[-appendToFile <localsrc> ... <dst>]\n",
    "\t[-cat [-ignoreCrc] <src> ...]\n",
    "\t[-checksum <src> ...]\n",
    "\t[-chgrp [-R] GROUP PATH...]\n",
    "\t[-chmod [-R] <MODE[,MODE]... | OCTALMODE> PATH...]\n",
    "\t[-chown [-R] [OWNER][:[GROUP]] PATH...]\n",
    "\t[-copyFromLocal [-f] [-p] [-l] [-d] <localsrc> ... <dst>]\n",
    "\t[-copyToLocal [-f] [-p] [-ignoreCrc] [-crc] <src> ... <localdst>]\n",
    "\t[-count [-q] [-h] [-v] [-t [<storage type>]] [-u] [-x] <path> ...]\n",
    "\t[-cp [-f] [-p | -p[topax]] [-d] <src> ... <dst>]\n",
    "\t[-createSnapshot <snapshotDir> [<snapshotName>]]\n",
    "\t[-deleteSnapshot <snapshotDir> <snapshotName>]\n",
    "\t[-df [-h] [<path> ...]]\n",
    "\t[-du [-s] [-h] [-x] <path> ...]\n",
    "\t[-expunge]\n",
    "\t[-find <path> ... <expression> ...]\n",
    "\t[-get [-f] [-p] [-ignoreCrc] [-crc] <src> ... <localdst>]\n",
    "\t[-getfacl [-R] <path>]\n",
    "\t[-getfattr [-R] {-n name | -d} [-e en] <path>]\n",
    "\t[-getmerge [-nl] [-skip-empty-file] <src> <localdst>]\n",
    "\t[-help [cmd ...]]\n",
    "\t[-ls [-C] [-d] [-h] [-q] [-R] [-t] [-S] [-r] [-u] [<path> ...]]\n",
    "\t[-mkdir [-p] <path> ...]\n",
    "\t[-moveFromLocal <localsrc> ... <dst>]\n",
    "\t[-moveToLocal <src> <localdst>]\n",
    "\t[-mv <src> ... <dst>]\n",
    "\t[-put [-f] [-p] [-l] [-d] <localsrc> ... <dst>]\n",
    "\t[-renameSnapshot <snapshotDir> <oldName> <newName>]\n",
    "\t[-rm [-f] [-r|-R] [-skipTrash] [-safely] <src> ...]\n",
    "\t[-rmdir [--ignore-fail-on-non-empty] <dir> ...]\n",
    "\t[-setfacl [-R] [{-b|-k} {-m|-x <acl_spec>} <path>]|[--set <acl_spec> <path>]]\n",
    "\t[-setfattr {-n name [-v value] | -x name} <path>]\n",
    "\t[-setrep [-R] [-w] <rep> <path> ...]\n",
    "\t[-stat [format] <path> ...]\n",
    "\t[-tail [-f] <file>]\n",
    "\t[-test -[defsz] <path>]\n",
    "\t[-text [-ignoreCrc] <src> ...]\n",
    "\t[-touchz <path> ...]\n",
    "\t[-truncate [-w] <length> <path> ...]\n",
    "\t[-usage [cmd ...]]\n",
    "\n",
    "Generic options supported are:\n",
    "-conf <configuration file>        specify an application configuration file\n",
    "-D <property=value>               define a value for a given property\n",
    "-fs <file:///|hdfs://namenode:port> specify default filesystem URL to use, overrides 'fs.defaultFS' property from configurations.\n",
    "-jt <local|resourcemanager:port>  specify a ResourceManager\n",
    "-files <file1,...>                specify a comma-separated list of files to be copied to the map reduce cluster\n",
    "-libjars <jar1,...>               specify a comma-separated list of jar files to be included in the classpath\n",
    "-archives <archive1,...>          specify a comma-separated list of archives to be unarchived on the compute machines\n",
    "\n",
    "The general command line syntax is:\n",
    "command [genericOptions] [commandOptions]\n",
    "```"
   ]
  },
  {
   "cell_type": "markdown",
   "metadata": {},
   "source": [
    "### Snakebite"
   ]
  },
  {
   "cell_type": "markdown",
   "metadata": {},
   "source": [
    "#### Instalação\n",
    "\n",
    "```bash\n",
    "pip install snakebite\n",
    "```"
   ]
  },
  {
   "cell_type": "markdown",
   "metadata": {},
   "source": [
    "#### Listando diretórios\n",
    "\n",
    "Crie um arquivo chamado `listar_diretorios.py`\n",
    "\n",
    "```python\n",
    "from snakebite.client import Client\n",
    "\n",
    "client = Client('localhost', 9000)\n",
    "for x in client.ls(['/']):\n",
    "    print x\n",
    "```"
   ]
  },
  {
   "cell_type": "markdown",
   "metadata": {},
   "source": [
    "#### Criando diretórios\n",
    "\n",
    "Crie um arquivo chamado `criar_diretorio.py`\n",
    "\n",
    "```python\n",
    "from snakebite.client import Client\n",
    "\n",
    "client = Client('localhost', 9000)\n",
    "for p in client.mkdir(['/foo/bar', '/input'], create_parent=True):\n",
    "    print p\n",
    "```"
   ]
  },
  {
   "cell_type": "markdown",
   "metadata": {},
   "source": [
    "#### Deletar Arquivos e Diretórios\n",
    "\n",
    "Crie um arquivo chamado `deletar_diretorio.py`\n",
    "\n",
    "```python\n",
    "from snakebite.client import Client\n",
    "\n",
    "client = Client('localhost', 9000)\n",
    "for p in client.delete(['/foo', '/input'], recurse=True):\n",
    "    print p\n",
    "```"
   ]
  },
  {
   "cell_type": "markdown",
   "metadata": {},
   "source": [
    "#### CLI Client\n",
    "\n",
    "`~/.snakebiterc`\n",
    "\n",
    "```bash\n",
    "{\n",
    "  \"config_version\": 2,\n",
    "  \"skiptrash\": true,\n",
    "  \"namenodes\": [\n",
    "    {\"host\": \"localhost\", \"port\": 9000, \"version\": 9},\n",
    "  ]\n",
    "}\n",
    "```"
   ]
  },
  {
   "cell_type": "markdown",
   "metadata": {},
   "source": [
    "#### No terminal"
   ]
  },
  {
   "cell_type": "markdown",
   "metadata": {},
   "source": [
    "```bash\n",
    "snakebite ls /\n",
    "```"
   ]
  }
 ],
 "metadata": {
  "kernelspec": {
   "display_name": "Python 3",
   "language": "python",
   "name": "python3"
  },
  "language_info": {
   "codemirror_mode": {
    "name": "ipython",
    "version": 3
   },
   "file_extension": ".py",
   "mimetype": "text/x-python",
   "name": "python",
   "nbconvert_exporter": "python",
   "pygments_lexer": "ipython3",
   "version": "3.6.5"
  }
 },
 "nbformat": 4,
 "nbformat_minor": 2
}
