{
 "cells": [
  {
   "cell_type": "markdown",
   "metadata": {},
   "source": [
    "# Projeto de Pesquisa\n",
    "\n",
    "## Sistemas de Arquivos Distribuídos \n",
    "\n",
    "\n",
    "### Atividade\n",
    "\n",
    "* Em group, detalhe o projeto de pesquisa que você propôs tendo como foco o sistema de arquivos distribuídos HDFS.\n",
    "\n",
    "\n",
    "* Comece o detalhamento, explicando em termos teóricos sobre o sistema de arquivos HDFS\n",
    "\n",
    "\n",
    "* Em seguida, explique como o contexto do projeto de pesquisa se relaciona com o HDFS. Além disso, explique como sistemas de arquivos **que não são** distribuídos NÃO podem ser a única abordagem de solução\n",
    "\n",
    "\n",
    "* Elejam um representante para explicar o projeto ao restante da sala"
   ]
  }
 ],
 "metadata": {
  "kernelspec": {
   "display_name": "Python 3",
   "language": "python",
   "name": "python3"
  },
  "language_info": {
   "codemirror_mode": {
    "name": "ipython",
    "version": 3
   },
   "file_extension": ".py",
   "mimetype": "text/x-python",
   "name": "python",
   "nbconvert_exporter": "python",
   "pygments_lexer": "ipython3",
   "version": "3.6.4"
  }
 },
 "nbformat": 4,
 "nbformat_minor": 2
}
