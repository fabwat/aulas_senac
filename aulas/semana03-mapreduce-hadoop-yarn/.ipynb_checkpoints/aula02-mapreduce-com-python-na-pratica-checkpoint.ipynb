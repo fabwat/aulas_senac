{
 "cells": [
  {
   "cell_type": "markdown",
   "metadata": {},
   "source": [
    "# Introdução ao MapReduce\n",
    "\n",
    "\n",
    "## Na Prática"
   ]
  },
  {
   "cell_type": "markdown",
   "metadata": {},
   "source": [
    "### `mapper.py`"
   ]
  },
  {
   "cell_type": "code",
   "execution_count": 5,
   "metadata": {},
   "outputs": [],
   "source": [
    "#!/usr/bin/env python\n",
    "\n",
    "import sys\n",
    "\n",
    "# Lê cada linha da entrada padrão\n",
    "for line in sys.stdin:\n",
    "    \n",
    "    # Obtem as palavras em cada linha\n",
    "    words = line.split(' ')\n",
    "    \n",
    "    # Gera o contador para cada palavra\n",
    "    for word in words:\n",
    "        \n",
    "        # Escreve o par chave-valor para stdout (saida padrão) para a ser processado pelo reducer\n",
    "        # A chave é qualquer coisa antes do primeiro caracter de tab o e valor \n",
    "        # (#valor) é qualquer coisa após o caracter de tab\n",
    "        print('{0}\\t{1}'.format(word, 1))\n"
   ]
  },
  {
   "cell_type": "markdown",
   "metadata": {},
   "source": [
    "### `reducer.py`"
   ]
  },
  {
   "cell_type": "code",
   "execution_count": 4,
   "metadata": {},
   "outputs": [],
   "source": [
    "#!/usr/bin/env python\n",
    "\n",
    "import sys\n",
    "\n",
    "curr_word = None\n",
    "curr_count = 0\n",
    "\n",
    "# Processa cada chave-valor do mapper\n",
    "\n",
    "for line in sys.stdin:\n",
    "    # Obtem a chave e valor da linha atual\n",
    "    word, count = line.split('\\t')\n",
    "    \n",
    "    # Converte a contagem em um inteiro\n",
    "    count = int(count)\n",
    "    \n",
    "    # Se a palavra atual é a mesma que a palavra anterior,\n",
    "    # incremente a contagem. Do contrário, imprima as palavras em stdout (saída  padrão)\n",
    "    if (word == curr_word):\n",
    "        curr_count += count\n",
    "    else:\n",
    "    # Escreva a palavra e o número de ocorrências como um chave-valor em stdout\n",
    "        if curr_word:\n",
    "            print('{0}\\t{1}'.format(curr_word, curr_count))\n",
    "            curr_count = count\n",
    "    \n",
    "    # Imprime a contagem para a última palavra\n",
    "    print('{0}\\t{1}'.format(curr_word, curr_count))\n",
    "    "
   ]
  },
  {
   "cell_type": "markdown",
   "metadata": {},
   "source": [
    "Antes de executar o código no terminal, verifique as permissões nos arquivos `mapper.py` e `reducer.py`"
   ]
  },
  {
   "cell_type": "markdown",
   "metadata": {},
   "source": [
    "`chmod a+x mapper.py reducer.py`"
   ]
  },
  {
   "cell_type": "markdown",
   "metadata": {},
   "source": [
    "### Teste\n",
    "\n",
    "* Teste os programas antes de rodá-los como tarefas MapReduce\n",
    "\n",
    "* Podemos utilizar comandos `echo` concatenados por `pipes`"
   ]
  },
  {
   "cell_type": "markdown",
   "metadata": {},
   "source": [
    "`echo 'jack be nimble jack be quick' | ./mapper.py | sort -t 1 | reducer.py`"
   ]
  },
  {
   "cell_type": "markdown",
   "metadata": {},
   "source": [
    "### mrjob\n",
    "\n",
    "* É uma biblioteca Python MapReduce criada pela Yelp\n",
    "\n",
    "\n",
    "* Permite a criação das tarefas utilizando as facilidades Python\n",
    "\n",
    "\n",
    "* Podem ser testadas localmente, no Hadoop Cluster ou ainda na nuvem utilizando a Amazon Elastic MapReduce (EMR)\n",
    "\n",
    "\n",
    "* Desenvolvido ativamente com múltiplos commits toda semana\n",
    "\n",
    "\n",
    "* Possui documentação abrangente, mais que todos os outros frameworks ou bibliotecas que suportem o MapReduce\n",
    "\n",
    "\n",
    "* Permite que as aplicações possam ser executadas e testadas sem que o Hadoop tenha que ser instalado, o que ajuda no desenvolvimento e testes antes do deploy no Cluster Hadoop\n",
    "\n",
    "\n",
    "* Não dá o mesmo nível de acesso ao Hadoop que as outras APIs oferecem"
   ]
  },
  {
   "cell_type": "markdown",
   "metadata": {},
   "source": [
    "#### Instalação\n",
    "\n",
    "`pip install mrjob`"
   ]
  },
  {
   "cell_type": "markdown",
   "metadata": {},
   "source": [
    "#### Contagem de Palavras no `mrjob`"
   ]
  },
  {
   "cell_type": "markdown",
   "metadata": {},
   "source": [
    "1. Abra um terminal e vá até o diretório em que pretende executar a tarefa MapReduce\n",
    "\n",
    "\n",
    "2. Digite os comandos abaixo"
   ]
  },
  {
   "cell_type": "markdown",
   "metadata": {},
   "source": [
    "`touch input.txt`\n",
    "\n",
    "`echo \"jack be nimble jack be quick\" >> input.txt`"
   ]
  },
  {
   "cell_type": "markdown",
   "metadata": {},
   "source": [
    "3. Escreva uma classe chamada `word_count.py` Python como a seguir"
   ]
  },
  {
   "cell_type": "code",
   "execution_count": 8,
   "metadata": {},
   "outputs": [],
   "source": [
    "from mrjob.job import MRJob\n",
    "\n",
    "class MRWordCount(MRJob):\n",
    "    \n",
    "    def mapper(self, _, line):\n",
    "        for word in line.split():\n",
    "            yield(word, 1)\n",
    "            \n",
    "    def reducer(self, word, counts):\n",
    "        yield(word, sum(counts))\n",
    "\n",
    "if (__name__ == '__name__'):\n",
    "    MRWordCount.run()"
   ]
  },
  {
   "cell_type": "markdown",
   "metadata": {},
   "source": [
    "4. Execução"
   ]
  },
  {
   "cell_type": "markdown",
   "metadata": {},
   "source": [
    "`python word_count.py input.txt`"
   ]
  },
  {
   "cell_type": "markdown",
   "metadata": {},
   "source": [
    "#### O que está acontecendo?\n",
    "\n",
    "* Herança de MRJob\n",
    "\n",
    "\n",
    "* `mapper()`\n",
    "\n",
    "  => O `_` ignora a entrada e divide o valor de entrada para produzir as palavras e as contagens\n",
    "  \n",
    "  \n",
    "* `combiner()` \n",
    "\n",
    "  => Representa um combinador para a tarefa MapReduce\n",
    "  \n",
    "  => É um processo que roda após o mapper e antes do reducer\n",
    "  \n",
    "  \n",
    "* `reducer()`"
   ]
  },
  {
   "cell_type": "markdown",
   "metadata": {},
   "source": [
    "#### Executando tarefas mrjob\n",
    "\n",
    "* Executar tarefas MapReduce com mrjob é similar a executar scripts python\n",
    "\n",
    "  `python mr_job.py input.txt`\n",
    "  \n",
    "  \n",
    "* Múltiplos arquivos podem ser passados como argumentos, bastando especificar seus nomes na linha de comando:\n",
    "\n",
    "  `python mr_job.py input1.txt input2.txt. input3.txt`\n",
    "  \n",
    "  \n",
    "* mrjob também aceita entradas pela entrada padrão:\n",
    "\n",
    "  `python mr_job.py < input.txt`"
   ]
  },
  {
   "cell_type": "markdown",
   "metadata": {},
   "source": [
    "### Os Salários Mais Altos"
   ]
  },
  {
   "cell_type": "code",
   "execution_count": null,
   "metadata": {},
   "outputs": [],
   "source": [
    "from mrjob.job import MRJob\n",
    "from mrjob.step import MRStep\n",
    "import csv\n",
    "\n",
    "cols = 'Name,JobTitle,AgencyID,Agency,HireDate,AnnualSalary,Gross Pay'.split(',')\n",
    "\n",
    "class salarymax(MRJob):\n",
    "    \n",
    "    def mapper(self, _, line):\n",
    "        #Converte cada linha em um dicionário\n",
    "        row = dict(zip(cols, [ a.strip() for a in csv.reader([line]).next()]))\n",
    "        \n",
    "        # Faz o Yield do salário\n",
    "        yield 'salary', (float(row['AnnualSalary'][1:]), line)\n",
    "        \n",
    "        try:\n",
    "            yield 'gross', (float(row['GrossPay'][1:]), line) \n",
    "        except ValueError:\n",
    "            self.increment_counter('warn', 'missing gross', 1)\n",
    "            \n",
    "            \n",
    "    def reducer(self, key, values):\n",
    "        topten = []\n",
    "        \n",
    "        for p in values:\n",
    "            topten.append(p) \n",
    "            topten.sort() \n",
    "            topten = topten[-10:]\n",
    "\n",
    "            for p in topten:\n",
    "                yield key, p\n",
    "                combiner = reducer\n",
    "\n",
    "if (__name__ == '__main__'):\n",
    "    salarymax.run()"
   ]
  }
 ],
 "metadata": {
  "kernelspec": {
   "display_name": "Python 3",
   "language": "python",
   "name": "python3"
  },
  "language_info": {
   "codemirror_mode": {
    "name": "ipython",
    "version": 3
   },
   "file_extension": ".py",
   "mimetype": "text/x-python",
   "name": "python",
   "nbconvert_exporter": "python",
   "pygments_lexer": "ipython3",
   "version": "3.6.4"
  }
 },
 "nbformat": 4,
 "nbformat_minor": 2
}
