{
 "cells": [
  {
   "cell_type": "markdown",
   "metadata": {
    "slideshow": {
     "slide_type": "slide"
    }
   },
   "source": [
    "# Introdução a Modelos de Computação Distribuídos\n",
    "\n",
    "\n",
    "## MapReduce"
   ]
  },
  {
   "cell_type": "markdown",
   "metadata": {
    "slideshow": {
     "slide_type": "slide"
    }
   },
   "source": [
    "# O que é o MapReduce?\n",
    "\n",
    "\n",
    "=> Map Reduce é um modelo de programação que processa e analisa grandes quantidades de dados logicamente em clusters separados"
   ]
  },
  {
   "cell_type": "markdown",
   "metadata": {
    "slideshow": {
     "slide_type": "slide"
    }
   },
   "source": [
    "# Principais Componentes do Hadoop"
   ]
  },
  {
   "cell_type": "code",
   "execution_count": 2,
   "metadata": {
    "slideshow": {
     "slide_type": "fragment"
    }
   },
   "outputs": [
    {
     "data": {
      "text/html": [
       "<img src=\"img/hadoop-core-components.jpg\" width=\"100%\">"
      ],
      "text/plain": [
       "<IPython.core.display.HTML object>"
      ]
     },
     "metadata": {},
     "output_type": "display_data"
    }
   ],
   "source": [
    "%%HTML\n",
    "<img src=\"img/hadoop-core-components.jpg\" width=\"100%\">"
   ]
  },
  {
   "cell_type": "markdown",
   "metadata": {
    "slideshow": {
     "slide_type": "slide"
    }
   },
   "source": [
    "# MapReduce na Essência"
   ]
  },
  {
   "cell_type": "code",
   "execution_count": 3,
   "metadata": {
    "slideshow": {
     "slide_type": "fragment"
    }
   },
   "outputs": [
    {
     "data": {
      "text/html": [
       "\n",
       "<img src=\"img/mapreduce-in-a-nutshell.jpg\" width=\"100%\" />"
      ],
      "text/plain": [
       "<IPython.core.display.HTML object>"
      ]
     },
     "metadata": {},
     "output_type": "display_data"
    }
   ],
   "source": [
    "%%HTML\n",
    "<img src=\"img/mapreduce-in-a-nutshell.jpg\" width=\"100%\" />"
   ]
  },
  {
   "cell_type": "markdown",
   "metadata": {
    "slideshow": {
     "slide_type": "slide"
    }
   },
   "source": [
    "# Principais Vantagens e Características do MapReduce\n",
    "\n",
    "=> Dados processados em paralelo\n",
    "\n",
    "\n",
    "=> Processamento rápido (em relação a quê?)\n",
    "\n",
    "\n",
    "=> Mover dados para processamento se torna muito caro (Data Locality)\n",
    "\n",
    "* Custoso em termos de tempo, largura de banda entre outros\n",
    "\n",
    "\n",
    "* No MapReduce, movemos o processamento para os dados"
   ]
  },
  {
   "cell_type": "markdown",
   "metadata": {
    "slideshow": {
     "slide_type": "slide"
    }
   },
   "source": [
    "# Exemplo de MapReduce Aplicado à Contagens de Palavras\n",
    "\n",
    "<img src=\"https://www.researchgate.net/profile/Oscar_Pereira3/publication/270448794/figure/fig6/AS:295098651824130@1447368409317/Word-count-program-flow-executed-with-MapReduce-5.png\" width=\"100%\">"
   ]
  },
  {
   "cell_type": "markdown",
   "metadata": {
    "slideshow": {
     "slide_type": "slide"
    }
   },
   "source": [
    "# Do que é o MapReduce é feito?\n",
    "\n",
    "\n",
    "=> Consiste de duas fases, o mapeamento (map) e o redução (reduce)\n",
    "\n",
    "\n",
    "=> Ambas as fases recebem a entrada em um formato de chave-valor e emitem dados como chave-valor\n",
    "\n",
    "\n",
    "=> Quando os mappers terminam de executar, os reducers rodam em paralelo nos nós (reducers não necessitam esperar todos os mappers terminarem de executar para iniciarem)\n",
    "\n",
    "\n",
    "<img src=\"http://ercoppa.github.io/HadoopInternals/public/images/timeline-mapreduce-job_534c0041-2498-44cd-9480-18910a008c0f.png\" width=\"50%\">"
   ]
  },
  {
   "cell_type": "markdown",
   "metadata": {
    "slideshow": {
     "slide_type": "slide"
    }
   },
   "source": [
    "# Mais sobre MapReduce\n",
    "\n",
    "\n",
    "=> Geralmente, o conjunto de dados é tão grande que uma única instância de map e reduce não são sucificientes para processarem todo o conjunto.\n",
    "\n",
    "\n",
    "=> Tipicamente, temos M x N instâncias de mapper e reducers respectivamente envolvido no processamento dos dados, tipicamente com M > N\n",
    "\n",
    "\n",
    "=> Os mappers e reducers rodam em paralelo nos DataNodes\n",
    "\n",
    "\n",
    "=> O MapReduce resolve a maioria dos problemas de análise relacionados ao big data ao espalhar a computação pelos nós de um cluster"
   ]
  },
  {
   "cell_type": "markdown",
   "metadata": {
    "slideshow": {
     "slide_type": "slide"
    }
   },
   "source": [
    "# As Fases do MapReduce\n",
    "\n",
    "\n",
    "1. Map - Mapeia entradas de pares chave-valor para pares chave-valor intermediários\n",
    "\n",
    "\n",
    "2. Sort - aplica a classificação de entradas de chaves\n",
    "\n",
    "\n",
    "3. Shuffle e Sort acontecem simultaneamente enquanto fazem a entrada de dados\n",
    "\n",
    "\n",
    "4. Reduce - chama a função reduce para cada chave, coleção de valores\n",
    "\n",
    "\n",
    "5. Saída do reduce é escrita em `RecordWriter` via objeto de contexto"
   ]
  },
  {
   "cell_type": "markdown",
   "metadata": {
    "slideshow": {
     "slide_type": "slide"
    }
   },
   "source": [
    "# O Papel do Combiner (opcional)\n",
    "\n",
    "\n",
    "=> Papel primário é otimizar/minimizar o número de chaves-valores espalhados pelo cluster\n",
    "\n",
    "\n",
    "=> Reduz os dados intermediários e escrita no disco\n",
    "\n",
    "\n",
    "=> Reduz os dados trafegados pela rede\n",
    "\n",
    "\n",
    "=> O Combiner é representado pela mesma interface do Reduce"
   ]
  },
  {
   "cell_type": "markdown",
   "metadata": {
    "slideshow": {
     "slide_type": "slide"
    }
   },
   "source": [
    "# Visualização do Combiner\n",
    "\n",
    "\n",
    "<img src=\"https://image.slidesharecdn.com/module3-bigdataandhadoop-160425063358/95/hadoop-mapreduce-framework-48-638.jpg?cb=1461743943\" width=\"100%\" />"
   ]
  },
  {
   "cell_type": "markdown",
   "metadata": {
    "slideshow": {
     "slide_type": "slide"
    }
   },
   "source": [
    "# Mapeando e Reduzindo Filmes\n",
    "\n",
    "| id do usuário | id do filme | classificação | timestamp |\n",
    "|--------------:|------------:|:-------------:|:---------:|\n",
    "| 196           | 242         | 3             | 123456789 |\n",
    "| 186           | 302         | 3             | 123456789 |\n",
    "| 196           | 377         | 1             | 123456789 |\n",
    "| 244           | 51          | 2             | 123456789 |\n",
    "| 166           | 346         | 1             | 123456789 |\n",
    "| 186           | 474         | 4             | 123456789 |\n",
    "| 186           | 265         | 2             | 123456789 |"
   ]
  },
  {
   "cell_type": "code",
   "execution_count": 1,
   "metadata": {
    "slideshow": {
     "slide_type": "fragment"
    }
   },
   "outputs": [],
   "source": [
    "# A implementação de um Mapper\n",
    "def mapper_get_ratings(self, _, line):\n",
    "    (userID, movieID, rating, timestamp) = line.split('\\t')\n",
    "    yield rating,1"
   ]
  },
  {
   "cell_type": "markdown",
   "metadata": {
    "slideshow": {
     "slide_type": "slide"
    }
   },
   "source": [
    "# Após a etapa de Mapping\n",
    "\n",
    "| Resultado |\n",
    "|-----|\n",
    "| 3,1 |\n",
    "| 3,1 |\n",
    "| 1,1 |\n",
    "| 2,1 |\n",
    "| 1,1 |\n",
    "| 4,1 |\n",
    "| 2,1 |"
   ]
  },
  {
   "cell_type": "markdown",
   "metadata": {
    "slideshow": {
     "slide_type": "slide"
    }
   },
   "source": [
    "# Após a etapa de Shuffling e Sorting\n",
    "\n",
    "\n",
    "| Resultado  |\n",
    "|----------|\n",
    "| 1 -> 1,1 |\n",
    "| 2 -> 1,1 |\n",
    "| 3 -> 1,1 |\n",
    "| 4 -> 1   |"
   ]
  },
  {
   "cell_type": "markdown",
   "metadata": {
    "slideshow": {
     "slide_type": "slide"
    }
   },
   "source": [
    "# Após a etapa de Reducing\n",
    "\n",
    "\n",
    "| Resultado  |\n",
    "|----------|\n",
    "| 1,2      |\n",
    "| 2,2      |\n",
    "| 3,2      |\n",
    "| 4,1      |"
   ]
  },
  {
   "cell_type": "code",
   "execution_count": 11,
   "metadata": {
    "slideshow": {
     "slide_type": "fragment"
    }
   },
   "outputs": [],
   "source": [
    "# A implementação de um reducer\n",
    "def reducer_count_ratings(self, key, values):\n",
    "    yield key, sum(values)"
   ]
  },
  {
   "cell_type": "markdown",
   "metadata": {
    "slideshow": {
     "slide_type": "slide"
    }
   },
   "source": [
    "# Atividade 1\n",
    "\n",
    "=> Descreva com suas próprias palavras o que é o MapReduce e para quais situações é utilizado de duas formas:\n",
    "\n",
    " * Para uma criança de 5 anos de idade\n",
    " \n",
    " \n",
    " * Para um especialista da área\n",
    "\n",
    "\n",
    "=> Explique as vantagens do modelo de programação do MapReduce de duas formas:\n",
    "\n",
    " * Para uma criança de 5 anos de idade\n",
    " \n",
    " \n",
    " * Para um especialista da área"
   ]
  },
  {
   "cell_type": "markdown",
   "metadata": {
    "slideshow": {
     "slide_type": "slide"
    }
   },
   "source": [
    "# Atividade 2\n",
    "\n",
    "=> Pense em cenários que exemplifiquem o uso do MapReduce para:\n",
    "\n",
    "* Busca de informações\n",
    "\n",
    "\n",
    "* Classificação\n",
    "\n",
    "\n",
    "* Recomendação"
   ]
  },
  {
   "cell_type": "markdown",
   "metadata": {
    "slideshow": {
     "slide_type": "slide"
    }
   },
   "source": [
    "# Atividade 3\n",
    "\n",
    "=> O que mudaria na implementação dos métodos (ou funções) de map e reduce para cada um dos cenários que você propôs acima"
   ]
  },
  {
   "cell_type": "markdown",
   "metadata": {
    "slideshow": {
     "slide_type": "slide"
    }
   },
   "source": [
    "# Tudo Junto"
   ]
  },
  {
   "cell_type": "code",
   "execution_count": null,
   "metadata": {
    "slideshow": {
     "slide_type": "fragment"
    }
   },
   "outputs": [],
   "source": [
    "from mrjob.job import MRJob\n",
    "from mrjob.step import MRStep\n",
    "\n",
    "class RatingsBreakdown(MRJob):\n",
    "    def steps(self):\n",
    "        return [\n",
    "            MRStep(mapper=self.mapper_get_ratings,\n",
    "                   reducer=self.reducer_count_ratings)\n",
    "        ]\n",
    "    \n",
    "    def mapper_get_ratings(self, _, line):\n",
    "        (userID, movieID, ratings, timestamp) = line.split(\"\\t\")\n",
    "        yield rating,1\n",
    "        \n",
    "    def reducer_count_ratings(self, key, values):\n",
    "        yield key, sum(values)\n",
    "\n",
    "if (__name__ == '__main__'):\n",
    "    RatingsBreakdown.run()"
   ]
  },
  {
   "cell_type": "markdown",
   "metadata": {
    "slideshow": {
     "slide_type": "slide"
    }
   },
   "source": [
    "# Quantas Tarefas Map?\n",
    "\n",
    "```\n",
    "num_splits = 0\n",
    "for each input file f:\n",
    "   remaining = f.length\n",
    "   while remaining / split_size > split_slope:\n",
    "      num_splits += 1\n",
    "      remaining -= split_size\n",
    "```\n",
    "\n",
    "em que:\n",
    "\n",
    "```\n",
    "split_slope = 1.1\n",
    "split_size =~ dfs.blocksize\n",
    "```\n"
   ]
  },
  {
   "cell_type": "markdown",
   "metadata": {
    "slideshow": {
     "slide_type": "slide"
    }
   },
   "source": [
    "# Animação MapReduce"
   ]
  },
  {
   "cell_type": "code",
   "execution_count": 2,
   "metadata": {
    "slideshow": {
     "slide_type": "fragment"
    }
   },
   "outputs": [
    {
     "data": {
      "text/html": [
       "HTML('<iframe width=\"560\" height=\"315\" src=\"https://www.youtube.com/embed/fIECbEKyWNQ\" frameborder=\"0\" allow=\"autoplay; encrypted-media\" allowfullscreen></iframe>')"
      ],
      "text/plain": [
       "<IPython.core.display.HTML object>"
      ]
     },
     "metadata": {},
     "output_type": "display_data"
    }
   ],
   "source": [
    "%%HTML\n",
    "HTML('<iframe width=\"560\" height=\"315\" src=\"https://www.youtube.com/embed/fIECbEKyWNQ\" frameborder=\"0\" allow=\"autoplay; encrypted-media\" allowfullscreen></iframe>')"
   ]
  }
 ],
 "metadata": {
  "celltoolbar": "Slideshow",
  "kernelspec": {
   "display_name": "Python 3",
   "language": "python",
   "name": "python3"
  },
  "language_info": {
   "codemirror_mode": {
    "name": "ipython",
    "version": 3
   },
   "file_extension": ".py",
   "mimetype": "text/x-python",
   "name": "python",
   "nbconvert_exporter": "python",
   "pygments_lexer": "ipython3",
   "version": "3.6.4"
  }
 },
 "nbformat": 4,
 "nbformat_minor": 2
}
