{
 "cells": [
  {
   "cell_type": "markdown",
   "metadata": {},
   "source": [
    "# Introdução ao YARN\n",
    "\n",
    "\n",
    "## Panorama"
   ]
  },
  {
   "cell_type": "code",
   "execution_count": 7,
   "metadata": {},
   "outputs": [
    {
     "data": {
      "text/html": [
       "\n",
       "<img src=\"http://media.bestofmicro.com/X/8/430172/gallery/yarn_w_755.png\" width=\"80%\" />"
      ],
      "text/plain": [
       "<IPython.core.display.HTML object>"
      ]
     },
     "metadata": {},
     "output_type": "display_data"
    }
   ],
   "source": [
    "%%HTML\n",
    "\n",
    "<img src=\"http://media.bestofmicro.com/X/8/430172/gallery/yarn_w_755.png\" width=\"80%\" />"
   ]
  },
  {
   "cell_type": "markdown",
   "metadata": {},
   "source": [
    "# O que é o YARN?\n",
    "\n",
    "1. YARN significa \"Yet Another Resource Negotiator\" ou \"Mais Um Negociador de Recursos\" em português\n",
    "\n",
    "\n",
    "2. YARN/MapReduce2 foi introduzido no Hadoop 2.0\n",
    "\n",
    "\n",
    "3. É uma camada que separa a camada de gerenciamento de recursos da camada de processamento dos componentes\n",
    "\n",
    "\n",
    "4. O MapReduce2 move o gerenciamento de recursos---como por exemplo a infraestrutura do monitor dos **nodes**, alocador de recursos e tarefas de agendamento---para o YARN"
   ]
  },
  {
   "cell_type": "markdown",
   "metadata": {},
   "source": [
    "# Framework de Execução do MapReduce 1\n",
    "\n",
    "1. Job Tracker é um daemon Master\n",
    "\n",
    "\n",
    "2. Responsável por atribuir e rastrear o progresso da execução de tarefas\n",
    "\n",
    "\n",
    "3. TaskTrackers são daemons escravas\n",
    "\n",
    "\n",
    "4. Elas rodam nos sistemas onde estão os DataNodes\n",
    "\n",
    "\n",
    "5. Responsáveis por criarem uma Child JVM para executar o Map, Reduce e as tarefas intermediárias"
   ]
  },
  {
   "cell_type": "markdown",
   "metadata": {},
   "source": [
    "# Motivação para MRV2\n",
    "\n",
    "## Escalabilidade\n",
    "\n",
    "=> Gargalo causado por ter um único JobTracker. De acordo com a Yahoo!, os limites práticos dessa arquitetura é alcançado com um cluster de ~ 5.000 nós e 40.000 tarefas rodando concorrentemente\n",
    "\n",
    "\n",
    "=> Os recursos computacionais em cada nó escravo são divididos pelo administrador do cluster em um número fixo de blocos map e reduce.\n",
    "\n",
    "\n",
    "=> O Hadoop foi projetado para rodar tarefas MapReduce somente\n"
   ]
  },
  {
   "cell_type": "markdown",
   "metadata": {},
   "source": [
    "# Arquitetura do YARN\n",
    "\n",
    "\n",
    "=> As responsabilidades do JobTracker1.0 são divididas\n",
    "\n",
    "*  *Resource Manager* gerencia a alocação de recursos no cluster\n",
    "\n",
    "\n",
    "* *Application Master* gerencia as necessidades de recursos de aplicações individuais\n",
    "\n",
    "\n",
    "=> Node Manager é um Task Tracker generalizado\n",
    "\n",
    "\n",
    "=> Um container executa o processo de uma aplicação específica"
   ]
  },
  {
   "cell_type": "markdown",
   "metadata": {},
   "source": [
    "# Componentes YARN\n",
    "\n",
    "\n",
    "1. *Cliente*. Submete tarefas MapReduce\n",
    "\n",
    "\n",
    "2. *Resource Manager* Gerencia o uso de recursos no cluster\n",
    "\n",
    "\n",
    "3. *Container* Nome dado ao pacote de recursos, incluindo RAM, CPU, Network, HDD etc\n",
    "\n",
    "\n",
    "4. *Node Manager* supervisiona os containers rodando no cluster\n",
    "\n",
    "\n",
    "5. *Application Master* negocia recursos com o Resource Manager, além de rodar processos de aplicação específicos (tarefas Map ou Reduce) nos clusters"
   ]
  },
  {
   "cell_type": "markdown",
   "metadata": {},
   "source": [
    "# Resource Manager\n",
    "\n",
    "=> Dois componentes agendadores (scheduler) e gerenciador de aplicação\n",
    "\n",
    "\n",
    "=> É um agendador de recursos global\n",
    "\n",
    "\n",
    "=> Gerencia e aloca recursos no cluster"
   ]
  },
  {
   "cell_type": "markdown",
   "metadata": {},
   "source": [
    "# Application Master\n",
    "\n",
    "\n",
    "=> Gerencia o ciclo de vida da aplicação e agendamento de tarefas\n",
    "\n",
    "\n",
    "=> Aplicação é uma tarefa submetida ao framework (ex: tarefa MapReduce)"
   ]
  },
  {
   "cell_type": "markdown",
   "metadata": {},
   "source": [
    "# Node Manager\n",
    "\n",
    "=> Gerencia a alocação de recursos para um nó específico\n",
    "\n",
    "\n",
    "=> Container/slot\n",
    "\n",
    "Unidade básica de alocação\n",
    "\n",
    "ex: container x = 2GB, 1 CPU\n",
    "\n"
   ]
  },
  {
   "cell_type": "markdown",
   "metadata": {},
   "source": [
    "# O que é o MR2?\n",
    "\n",
    "=> Com o YARN, não existe um único JobTracker para rodar processos e um TaskTracker para rodar tarefas destes processos\n",
    "\n",
    "\n",
    "=> É praticamente o mesmo modelo de execução do MapReduce 1, exceto que cada tarefa agora controla seu próprio destino via seu próprio Application Master, que passa a controlar o fluxo de execução (ex: agendamento)\n",
    "\n",
    "\n",
    "=> É um modelo mais isolado e escalável que o MR1"
   ]
  },
  {
   "cell_type": "code",
   "execution_count": 5,
   "metadata": {},
   "outputs": [
    {
     "data": {
      "text/html": [
       "<img src=\"img/yarn-flow1.png\" width=\"80%\" />"
      ],
      "text/plain": [
       "<IPython.core.display.HTML object>"
      ]
     },
     "metadata": {},
     "output_type": "display_data"
    }
   ],
   "source": [
    "%%HTML\n",
    "<img src=\"img/yarn-flow1.png\" width=\"80%\" />"
   ]
  },
  {
   "cell_type": "code",
   "execution_count": 6,
   "metadata": {},
   "outputs": [
    {
     "data": {
      "text/html": [
       "<img src=\"img/mapreduce-yarn.jpg\" width=\"80%\" />"
      ],
      "text/plain": [
       "<IPython.core.display.HTML object>"
      ]
     },
     "metadata": {},
     "output_type": "display_data"
    }
   ],
   "source": [
    "%%HTML\n",
    "<img src=\"img/mapreduce-yarn.jpg\" width=\"80%\" />"
   ]
  },
  {
   "cell_type": "code",
   "execution_count": null,
   "metadata": {},
   "outputs": [],
   "source": []
  }
 ],
 "metadata": {
  "kernelspec": {
   "display_name": "Python 3",
   "language": "python",
   "name": "python3"
  },
  "language_info": {
   "codemirror_mode": {
    "name": "ipython",
    "version": 3
   },
   "file_extension": ".py",
   "mimetype": "text/x-python",
   "name": "python",
   "nbconvert_exporter": "python",
   "pygments_lexer": "ipython3",
   "version": "3.6.4"
  }
 },
 "nbformat": 4,
 "nbformat_minor": 2
}
