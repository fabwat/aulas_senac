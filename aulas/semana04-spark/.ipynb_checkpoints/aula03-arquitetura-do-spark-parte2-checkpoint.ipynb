{
 "cells": [
  {
   "cell_type": "markdown",
   "metadata": {},
   "source": [
    "# Apache Spark \n",
    "\n",
    "\n",
    "## Arquitetura-Parte 2"
   ]
  },
  {
   "cell_type": "markdown",
   "metadata": {},
   "source": [
    "# Resilient Distributed Datasets (RDD)\n",
    "\n",
    "\n",
    "=> RDDs são as abstrações primárias no Spark - uma coleção de elementos tolerante a falhas que podem ser operados em paralelo\n",
    "\n",
    "\n",
    "=> Principal Estrutura de Dados do Spark\n",
    "\n",
    "\n",
    "=> Projetada para suportar armazenamento em memória --> tolerância a falhas e eficiência\n",
    "\n",
    "\n",
    "=> A tolerância a falhas rastreando-se as transformações feitas nos conjuntos de dados\n",
    "\n",
    "\n",
    "=> Eficiência é atingida por meio da paralelização do processamento em múltiplos nós do cluster e a minimização da replicação nestes nós\n",
    "\n",
    "\n",
    "=> Sempre que possível, a RDD permanece em memória"
   ]
  },
  {
   "cell_type": "code",
   "execution_count": 1,
   "metadata": {},
   "outputs": [
    {
     "data": {
      "text/html": [
       "<img src=\"img/rdd-broken-into-partitions.png\" width=\"100%\" />"
      ],
      "text/plain": [
       "<IPython.core.display.HTML object>"
      ]
     },
     "metadata": {},
     "output_type": "display_data"
    }
   ],
   "source": [
    "%%HTML\n",
    "<img src=\"img/rdd-broken-into-partitions.png\" width=\"100%\" />"
   ]
  },
  {
   "cell_type": "markdown",
   "metadata": {},
   "source": [
    "# SparkContext\n",
    "\n",
    "=> Representa a conexão entre o cluster e os nós. No shell, esse objeto é disponibilizado com ```sc```"
   ]
  },
  {
   "cell_type": "code",
   "execution_count": 2,
   "metadata": {},
   "outputs": [
    {
     "data": {
      "text/html": [
       "<img src=\"img/spark-context-metadata.png\"/> "
      ],
      "text/plain": [
       "<IPython.core.display.HTML object>"
      ]
     },
     "metadata": {},
     "output_type": "display_data"
    }
   ],
   "source": [
    "%%HTML\n",
    "<img src=\"img/spark-context-metadata.png\"/> "
   ]
  },
  {
   "cell_type": "markdown",
   "metadata": {},
   "source": [
    "### Métodos do SparkContext\n",
    "\n",
    "=> Exercem funções de controle sob Executors\n",
    "\n",
    "\n",
    "=> Carregam e salvam dados"
   ]
  },
  {
   "cell_type": "code",
   "execution_count": 3,
   "metadata": {},
   "outputs": [
    {
     "data": {
      "text/html": [
       "<img src=\"img/spark-context-methods.png\"/> "
      ],
      "text/plain": [
       "<IPython.core.display.HTML object>"
      ]
     },
     "metadata": {},
     "output_type": "display_data"
    }
   ],
   "source": [
    "%%HTML\n",
    "<img src=\"img/spark-context-methods.png\"/> "
   ]
  },
  {
   "cell_type": "markdown",
   "metadata": {},
   "source": [
    "# Operações em RDDs\n",
    "\n",
    "\n",
    "=> Duas operações são possíveis em RDDs:  (O RDD original não é alterado durante o processo. A cadeia de transformação do RDD1 ao RDDn são logadas e podem ser repetidas no caso de perda de dados ou falha em um nó do cluster)\n",
    "\n",
    "\n",
    "\n",
    "## **Transformações**. \n",
    "\n",
    "Criam um novo RDD ao mudar o RDD original por meio de processos como mapeamento (mapping), filtragem (filtering) entre outros. A avaliação de uma transformação é preguiçosa (*lazy evaluation*)"
   ]
  },
  {
   "cell_type": "code",
   "execution_count": 4,
   "metadata": {},
   "outputs": [
    {
     "data": {
      "text/html": [
       "<img src=\"img/spark-transformations.png\" />"
      ],
      "text/plain": [
       "<IPython.core.display.HTML object>"
      ]
     },
     "metadata": {},
     "output_type": "display_data"
    }
   ],
   "source": [
    "%%HTML\n",
    "<img src=\"img/spark-transformations.png\" />"
   ]
  },
  {
   "cell_type": "markdown",
   "metadata": {},
   "source": [
    "### Transformações em Conjuntos"
   ]
  },
  {
   "cell_type": "code",
   "execution_count": 6,
   "metadata": {},
   "outputs": [
    {
     "data": {
      "text/html": [
       "<img src=\"img/spark-transformation-on-sets.png\" />"
      ],
      "text/plain": [
       "<IPython.core.display.HTML object>"
      ]
     },
     "metadata": {},
     "output_type": "display_data"
    }
   ],
   "source": [
    "%%HTML\n",
    "<img src=\"img/spark-transformation-on-sets.png\" />"
   ]
  },
  {
   "cell_type": "markdown",
   "metadata": {},
   "source": [
    "## **Ações**\n",
    "\n",
    "São operações que não alteram o conjunto de dados original, tais como contagens e somas"
   ]
  },
  {
   "cell_type": "code",
   "execution_count": 7,
   "metadata": {},
   "outputs": [
    {
     "data": {
      "text/html": [
       "<img src=\"img/main-spark-actions.png\" />"
      ],
      "text/plain": [
       "<IPython.core.display.HTML object>"
      ]
     },
     "metadata": {},
     "output_type": "display_data"
    }
   ],
   "source": [
    "%%HTML\n",
    "<img src=\"img/main-spark-actions.png\" />"
   ]
  },
  {
   "cell_type": "markdown",
   "metadata": {},
   "source": [
    "## Persitência (Caching)\n",
    "\n",
    "\n",
    "=> Pode-se dizer ao Spark para persistir os RDDs para que o framework não fique acessando o HDFS (por exemplo) toda hora."
   ]
  },
  {
   "cell_type": "code",
   "execution_count": 9,
   "metadata": {},
   "outputs": [
    {
     "data": {
      "text/html": [
       "<img src=\"img/rdd-persistence-levels.png\" width=\"100%\" /> "
      ],
      "text/plain": [
       "<IPython.core.display.HTML object>"
      ]
     },
     "metadata": {},
     "output_type": "display_data"
    }
   ],
   "source": [
    "%%HTML\n",
    "<img src=\"img/rdd-persistence-levels.png\" width=\"100%\" /> "
   ]
  },
  {
   "cell_type": "code",
   "execution_count": null,
   "metadata": {},
   "outputs": [],
   "source": []
  }
 ],
 "metadata": {
  "kernelspec": {
   "display_name": "Python 3",
   "language": "python",
   "name": "python3"
  },
  "language_info": {
   "codemirror_mode": {
    "name": "ipython",
    "version": 3
   },
   "file_extension": ".py",
   "mimetype": "text/x-python",
   "name": "python",
   "nbconvert_exporter": "python",
   "pygments_lexer": "ipython3",
   "version": "3.6.4"
  }
 },
 "nbformat": 4,
 "nbformat_minor": 2
}
