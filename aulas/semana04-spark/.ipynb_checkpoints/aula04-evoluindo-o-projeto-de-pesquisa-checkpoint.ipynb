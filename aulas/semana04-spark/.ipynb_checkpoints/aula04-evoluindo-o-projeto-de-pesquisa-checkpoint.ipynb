{
 "cells": [
  {
   "cell_type": "markdown",
   "metadata": {},
   "source": [
    "# Projeto de Pesquisa\n",
    "\n",
    "## Apache Spark\n",
    "\n",
    "\n",
    "### Atividade\n",
    "\n",
    "* Em grupo, detalhe o projeto de pesquisa que você propôs tendo como foco o Apache Spark.\n",
    "\n",
    "\n",
    "* Comece o detalhamento, explicando em termos teóricos sobre o Spark\n",
    "\n",
    "\n",
    "* Em seguida, explique como o contexto do projeto de pesquisa se relaciona com o Spark. Crie pelo menos uma funcionalidade em seu sistema para contemplar o mecanismo\n",
    "\n",
    "\n",
    "* Elejam um representante para explicar o projeto ao restante da sala"
   ]
  }
 ],
 "metadata": {
  "kernelspec": {
   "display_name": "Python 3",
   "language": "python",
   "name": "python3"
  },
  "language_info": {
   "codemirror_mode": {
    "name": "ipython",
    "version": 3
   },
   "file_extension": ".py",
   "mimetype": "text/x-python",
   "name": "python",
   "nbconvert_exporter": "python",
   "pygments_lexer": "ipython3",
   "version": "3.6.4"
  }
 },
 "nbformat": 4,
 "nbformat_minor": 2
}
