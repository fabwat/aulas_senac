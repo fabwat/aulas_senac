{
 "cells": [
  {
   "cell_type": "markdown",
   "metadata": {},
   "source": [
    "# Apache Spark\n",
    "\n",
    "\n",
    "## Arquitetura-Parte 1"
   ]
  },
  {
   "cell_type": "markdown",
   "metadata": {},
   "source": [
    "# Como Executamos Programas Spark?\n",
    "\n",
    "\n",
    "=> Existem dois métodos para usar o Apache Spark\n",
    "\n",
    "## Via Shell (Scala, Pyspark, notebooks)\n",
    "\n",
    "=> Para aprendizado ou ainda cenários exploratórios\n",
    "\n",
    "\n",
    "## Submissão de Jobs\n",
    "\n",
    "=> Para situações reais que envolvem deploy no ambiente de produção\n",
    "\n",
    "\n",
    "## Interfaces de Linha de Comando\n",
    "\n",
    "=> O Spark oferece basicamente duas interfaces de linha de comando\n",
    "\n",
    "* Shell Scala\n",
    "\n",
    "\n",
    "* Shell Python"
   ]
  },
  {
   "cell_type": "markdown",
   "metadata": {},
   "source": [
    "# Modelo de Execução Spark\n",
    "\n",
    "=> O mecanismo computacional do Spark segue a arquitetura master-slave. Para cada aplicação, o Spark irá criar um processo mestre e vários processos escravos.\n",
    "\n",
    "\n",
    "=> O Spark chama de drivers os mestres e executer os escravos"
   ]
  },
  {
   "cell_type": "code",
   "execution_count": 12,
   "metadata": {},
   "outputs": [
    {
     "data": {
      "text/html": [
       "<img src=\"img/submitting-two-jobs-to-cluster.gif\" width=\"100%\" />"
      ],
      "text/plain": [
       "<IPython.core.display.HTML object>"
      ]
     },
     "metadata": {},
     "output_type": "display_data"
    }
   ],
   "source": [
    "%%HTML\n",
    "<img src=\"img/submitting-two-jobs-to-cluster.gif\" width=\"100%\" />"
   ]
  },
  {
   "cell_type": "markdown",
   "metadata": {},
   "source": [
    "# Spark Driver\n",
    "\n",
    "=> O driver é o mestre. É responsável por analisar, distribuir, agendar e monitorar tarefas dos executores\n",
    "\n",
    "\n",
    "=> Também mantém informações necessárias no ciclo de vida da aplicação"
   ]
  },
  {
   "cell_type": "markdown",
   "metadata": {},
   "source": [
    "# Spark Executors\n",
    "\n",
    "\n",
    "=> São responsável por executar o código atribuído pelo driver e reportar o status de volta ao driver\n",
    "\n",
    "\n",
    "=> O driver irá atribuir parte do código e dos dados para cada executor"
   ]
  },
  {
   "cell_type": "markdown",
   "metadata": {},
   "source": [
    "# Modos de Execução do Spark\n",
    "\n",
    "\n",
    "## Quem executa onde?\n",
    "\n",
    "### Executors\n",
    "\n",
    "=> Os executores sempre executam no Cluster. Não exceções a essa regra\n",
    "\n",
    "\n",
    "### Driver\n",
    "\n",
    "Os drivers possuem flexibilidade de onde serão executados\n",
    "\n",
    "#### 1. Modo Cliente\n",
    "O Driver é iniciado na máquina local do cliente"
   ]
  },
  {
   "cell_type": "code",
   "execution_count": 14,
   "metadata": {},
   "outputs": [
    {
     "data": {
      "text/html": [
       "<img src=\"img/spark-yarn-resource-allocation-in-client-mode.jpg\" width=\"100%\">"
      ],
      "text/plain": [
       "<IPython.core.display.HTML object>"
      ]
     },
     "metadata": {},
     "output_type": "display_data"
    }
   ],
   "source": [
    "%%HTML\n",
    "<img src=\"img/spark-yarn-resource-allocation-in-client-mode.jpg\" width=\"100%\">"
   ]
  },
  {
   "cell_type": "markdown",
   "metadata": {},
   "source": [
    "#### 2. Modo Cluster\n",
    "Inicia o driver no cluster"
   ]
  },
  {
   "cell_type": "code",
   "execution_count": 15,
   "metadata": {},
   "outputs": [
    {
     "data": {
      "text/html": [
       "<img src=\"img/spark-yarn-resource-allocation-in-cluster-mode.jpg\" width=\"100%\">"
      ],
      "text/plain": [
       "<IPython.core.display.HTML object>"
      ]
     },
     "metadata": {},
     "output_type": "display_data"
    }
   ],
   "source": [
    "%%HTML\n",
    "<img src=\"img/spark-yarn-resource-allocation-in-cluster-mode.jpg\" width=\"100%\">"
   ]
  },
  {
   "cell_type": "markdown",
   "metadata": {},
   "source": [
    "#### 3. Modo Local\n",
    "Tudo é executado em uma JVM local"
   ]
  },
  {
   "cell_type": "markdown",
   "metadata": {},
   "source": [
    "# Que Modo Deve-se Usar?\n",
    "\n",
    "=> O driver é o responśavel por toda a aplicação. Se alguma coisa de errado acontecer com o driver, todo o estado da sua aplicação é perdido\n",
    "\n",
    "\n",
    "=> Se o driver estiver em sua máquina local, sua aplicação ficará dependente de sua máquina local. Essa dependência é indesejável em aplicações com deploy no ambiente de produção\n",
    "\n",
    "\n",
    "=> Para exploração ou debug, o modo local é melhor porque normalmente o desenvolvedor prefere que a saída aconteça em seu terminal"
   ]
  },
  {
   "cell_type": "markdown",
   "metadata": {},
   "source": [
    "# Spark Cluster\n",
    "\n",
    "## Como o Spark obtém os recursos para o Driver e os Executors?\n",
    "\n",
    "\n",
    "### Cluster Managers (Gerenciadores de Clusters)\n",
    "\n",
    "=> O Spark possui cluster managers para gerenciar os recursos.\n",
    "\n",
    "\n",
    "=> O Spark possui 4 cluster managers\n",
    "\n",
    "\n",
    "* **Apache YARN**\n",
    "\n",
    "  Fornecido pelo Hadoop\n",
    "\n",
    "  Gerenciador de cluster mais utilizado atualmente\n",
    "\n",
    "\n",
    "* **Apache Mesos**\n",
    "\n",
    "  Um outro gerenciador de cluster de propósito geral (alternativa ao YARN)\n",
    "\n",
    "\n",
    "* **Kubernetes**\n",
    "\n",
    "  Não é propriamente um gerenciador de cluster\n",
    "    \n",
    "  Mais precisamente, é um container de propósito geral para orquestração de serviços da Google\n",
    "  \n",
    "  Spark ainda não está em fase de produção ainda no Kubernetes\n",
    "\n",
    "\n",
    "* **Standalone**\n",
    "\n",
    "  Não é o objetivo utilizar em ambientes de produção"
   ]
  },
  {
   "cell_type": "markdown",
   "metadata": {},
   "source": [
    "# Spark e o YARN\n",
    "\n",
    "\n",
    "## O Processo de Alocação de Recursos do Spark e o YARN\n",
    "\n",
    "=> Uma aplicação Spark começa criando uma ```SparkSession```\n",
    "\n",
    "\n",
    "=> Os Shells do Scala e Python já criam o ```SparkSession``` automaticamente\n",
    "\n",
    "\n",
    "=> o ```SparkSession``` é uma estrutura de dados onde o driver mantem toda a informação incluindo o local dos ```Executors``` e seu status.\n",
    "\n",
    "  **No Modo Cliente (Driver na máquina local)**\n",
    "\n",
    "\n",
    "1. Uma requisição chega ao ResourceManager do YARN para criar uma aplicação YARN\n",
    "\n",
    "\n",
    "2. O Resource Manager do YARN inicia um ApplicationMaster (AM). (Atua como lançador de Executors)\n",
    "\n",
    "\n",
    "3. O Application Master do YARN contacta o Resource Manager do YARN para requisitar outros containers\n",
    "\n",
    "\n",
    "4. O Resource Manager irá alocar novos containers e o Application Master inicia um Executor em cada Container\n",
    "\n",
    "\n",
    "5. Depois desses passos, estes Executors se comunicam diretamente com o Driver"
   ]
  },
  {
   "cell_type": "code",
   "execution_count": 17,
   "metadata": {},
   "outputs": [
    {
     "data": {
      "text/html": [
       "<img src=\"img/spark-yarn-resource-allocation-in-client-mode.jpg\" width=\"100%\">"
      ],
      "text/plain": [
       "<IPython.core.display.HTML object>"
      ]
     },
     "metadata": {},
     "output_type": "display_data"
    }
   ],
   "source": [
    "%%HTML\n",
    "<img src=\"img/spark-yarn-resource-allocation-in-client-mode.jpg\" width=\"100%\">"
   ]
  },
  {
   "cell_type": "markdown",
   "metadata": {},
   "source": [
    "  **No Modo Cluster (Driver no Cluster)**\n",
    "  \n",
    "  \n",
    "    No modo Cluster, o AM do YARN não possui nenhuma depêndencia em um computador local. Uma vez iniciado, o driver contacta o Resource Manager (passo 3) para requisitar mais Containers. O resto do processo é igual ao cliente\n"
   ]
  },
  {
   "cell_type": "code",
   "execution_count": 16,
   "metadata": {},
   "outputs": [
    {
     "data": {
      "text/html": [
       "<img src=\"img/spark-yarn-resource-allocation-in-cluster-mode.jpg\" width=\"100%\">"
      ],
      "text/plain": [
       "<IPython.core.display.HTML object>"
      ]
     },
     "metadata": {},
     "output_type": "display_data"
    }
   ],
   "source": [
    "%%HTML\n",
    "<img src=\"img/spark-yarn-resource-allocation-in-cluster-mode.jpg\" width=\"100%\">"
   ]
  },
  {
   "cell_type": "code",
   "execution_count": null,
   "metadata": {},
   "outputs": [],
   "source": []
  }
 ],
 "metadata": {
  "kernelspec": {
   "display_name": "Python 3",
   "language": "python",
   "name": "python3"
  },
  "language_info": {
   "codemirror_mode": {
    "name": "ipython",
    "version": 3
   },
   "file_extension": ".py",
   "mimetype": "text/x-python",
   "name": "python",
   "nbconvert_exporter": "python",
   "pygments_lexer": "ipython3",
   "version": "3.6.4"
  }
 },
 "nbformat": 4,
 "nbformat_minor": 2
}
