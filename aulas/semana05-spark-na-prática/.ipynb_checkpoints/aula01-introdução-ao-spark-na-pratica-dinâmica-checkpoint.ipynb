{
 "cells": [
  {
   "cell_type": "markdown",
   "metadata": {},
   "source": [
    "# Introdução ao Spark com Python\n",
    "\n",
    "## Na Prática\n",
    "\n",
    "\n",
    "## Aquecimento\n",
    "\n",
    "\n",
    "# Atividade 1\n",
    "\n",
    "=> Descreva com suas próprias palavras o que é o Apache Spark e para quais situações é utilizado de duas formas:\n",
    "\n",
    " * Para uma criança de 5 anos de idade\n",
    " \n",
    " \n",
    " * Para um especialista da área\n",
    "\n",
    "\n",
    "=> Explique as vantagens do modelo de programação do MapReduce de duas formas:\n",
    "\n",
    " * Para uma criança de 5 anos de idade\n",
    " \n",
    " \n",
    " * Para um especialista da área\n",
    " \n",
    " \n",
    "=> Como você faria a comparação entre MapReduce e o Apache Spark\n",
    "\n",
    " * Para uma criança de 5 anos de idade\n",
    " \n",
    " \n",
    " * Para um especialista da área\n"
   ]
  }
 ],
 "metadata": {
  "kernelspec": {
   "display_name": "Python 3",
   "language": "python",
   "name": "python3"
  },
  "language_info": {
   "codemirror_mode": {
    "name": "ipython",
    "version": 3
   },
   "file_extension": ".py",
   "mimetype": "text/x-python",
   "name": "python",
   "nbconvert_exporter": "python",
   "pygments_lexer": "ipython3",
   "version": "3.6.4"
  }
 },
 "nbformat": 4,
 "nbformat_minor": 2
}
