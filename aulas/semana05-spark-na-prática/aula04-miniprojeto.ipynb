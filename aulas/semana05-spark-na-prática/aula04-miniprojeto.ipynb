{
 "cells": [
  {
   "cell_type": "markdown",
   "metadata": {},
   "source": [
    "# Mini projeto\n",
    "\n",
    "\n",
    "Crie um contexto que utilize os conceitos apresentados nos sete ipython notebooks apresentados nas aulas 2 e 3.\n",
    "\n",
    "\n",
    "Mostre como você aplica as ações e transformações nos RDDs para atingir os objetivos. \n",
    "\n",
    "\n",
    "Neste exercício, você deverá criar (ou importar de algum lugar) uma massa de dados de testes."
   ]
  }
 ],
 "metadata": {
  "kernelspec": {
   "display_name": "Python 3",
   "language": "python",
   "name": "python3"
  },
  "language_info": {
   "codemirror_mode": {
    "name": "ipython",
    "version": 3
   },
   "file_extension": ".py",
   "mimetype": "text/x-python",
   "name": "python",
   "nbconvert_exporter": "python",
   "pygments_lexer": "ipython3",
   "version": "3.6.4"
  }
 },
 "nbformat": 4,
 "nbformat_minor": 2
}
