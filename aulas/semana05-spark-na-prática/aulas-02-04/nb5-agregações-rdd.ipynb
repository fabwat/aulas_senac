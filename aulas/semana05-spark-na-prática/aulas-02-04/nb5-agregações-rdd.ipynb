{
 "cells": [
  {
   "cell_type": "markdown",
   "metadata": {},
   "source": [
    "# P05: Introdução ao Spark com Python\n",
    "\n",
    "\n",
    "## Agregações de Dados em RDDs: `reduce`, `fold` e `aggregate`"
   ]
  },
  {
   "cell_type": "markdown",
   "metadata": {},
   "source": [
    "## Como obter o `SparkContext`"
   ]
  },
  {
   "cell_type": "code",
   "execution_count": null,
   "metadata": {},
   "outputs": [],
   "source": [
    "import pyspark\n",
    "sc = pyspark.SparkContext(appName=\"P5\")\n",
    "sc"
   ]
  },
  {
   "cell_type": "markdown",
   "metadata": {},
   "source": [
    "## Obtendo o conjunto de dados de análise reduzido e criando o RDD\n",
    "\n",
    "Usaremos um conjunto reduzido de dados (10%) da Copa KDD de 1999, que contém quase meio milhão de registros. O arquivo é fornecido como um *Gzip*."
   ]
  },
  {
   "cell_type": "code",
   "execution_count": 2,
   "metadata": {},
   "outputs": [],
   "source": [
    "import urllib.request as request\n",
    "f = request.urlretrieve(\"http://kdd.ics.uci.edu/databases/kddcup99/kddcup.data_10_percent.gz\", \"kddcup.data_10_percent.gz\")"
   ]
  },
  {
   "cell_type": "code",
   "execution_count": 3,
   "metadata": {},
   "outputs": [],
   "source": [
    "nome_arquivo = \"./kddcup.data_10_percent.gz\"\n",
    "rdd = sc.textFile(nome_arquivo)"
   ]
  },
  {
   "cell_type": "markdown",
   "metadata": {},
   "source": [
    "## Inspecionando a duração da interação por tipo"
   ]
  },
  {
   "cell_type": "markdown",
   "metadata": {},
   "source": [
    "Tanto `fold` quando o `reduce` aceitam uma função como argumento, que é aplicada a dois elementos do RDD.  Ao contrário da ação `reduce`, a ação `fold` recebe um valor zero inicial adicional para ser usado na chamada inicial."
   ]
  },
  {
   "cell_type": "markdown",
   "metadata": {},
   "source": [
    "Suponha que queiramos saber a duração total das interações normais e de ataque. Poderíamos usar o `reduce` da seguinte forma:"
   ]
  },
  {
   "cell_type": "code",
   "execution_count": 6,
   "metadata": {},
   "outputs": [],
   "source": [
    "csv_rdd = rdd.map(lambda x: x.split(\",\"))\n",
    "\n",
    "# separa em dois RDDs\n",
    "normal_csv_rdd = csv_rdd.filter(lambda x: x[41]==\"normal.\")\n",
    "ataque_csv_rdd = csv_rdd.filter(lambda x: x[41]!=\"normal.\")"
   ]
  },
  {
   "cell_type": "markdown",
   "metadata": {},
   "source": [
    "A função passada para a 'redução' recebe e retorna elementos do mesmo tipo do RDD. Se quisermos a soma das durações, precisamos fazer a extração em um novo RDD."
   ]
  },
  {
   "cell_type": "code",
   "execution_count": 10,
   "metadata": {},
   "outputs": [],
   "source": [
    "soma_duracao_normal_rdd = normal_csv_rdd.map(lambda x: int(x[0]))\n",
    "soma_duracao_ataque_rdd = ataque_csv_rdd.map(lambda x: int(x[0]))"
   ]
  },
  {
   "cell_type": "markdown",
   "metadata": {},
   "source": [
    "Agora podemos fazer a redução em dois novos RDDs."
   ]
  },
  {
   "cell_type": "code",
   "execution_count": 16,
   "metadata": {},
   "outputs": [
    {
     "name": "stdout",
     "output_type": "stream",
     "text": [
      "A soma das durações das interações normais é 5854.4 horas\n",
      "A soma das durações das interações de ataque é 729.7 horas\n"
     ]
    }
   ],
   "source": [
    "soma_duracao_normal = soma_duracao_normal_rdd.reduce(lambda x, y: x + y)\n",
    "soma_duracao_ataque = soma_duracao_ataque_rdd.reduce(lambda x, y: x + y)\n",
    "\n",
    "print(\"A soma das durações das interações normais é {} horas\".format(round(soma_duracao_normal/3600,1)))\n",
    "print(\"A soma das durações das interações de ataque é {} horas\".format(round(soma_duracao_ataque/3600,1)))"
   ]
  },
  {
   "cell_type": "markdown",
   "metadata": {},
   "source": [
    "Indo além, podemos utilizar contagens para calcular a duração média."
   ]
  },
  {
   "cell_type": "code",
   "execution_count": 20,
   "metadata": {},
   "outputs": [
    {
     "name": "stdout",
     "output_type": "stream",
     "text": [
      "A duração média das interações normais é 216.657 segundos\n",
      "A duração média das interações de ataque é 6.621 segundos\n"
     ]
    }
   ],
   "source": [
    "contagem_normal = soma_duracao_normal_rdd.count()\n",
    "contagem_ataque = soma_duracao_ataque_rdd.count()\n",
    "\n",
    "print(\"A duração média das interações normais é {} segundos\".format(round(soma_duracao_normal/float(contagem_normal),3)))\n",
    "print(\"A duração média das interações de ataque é {} segundos\".format(round(soma_duracao_ataque/float(contagem_ataque),3)))"
   ]
  },
  {
   "cell_type": "markdown",
   "metadata": {},
   "source": [
    "Embora funcione, essa abordagem para detectar interações de ataque ainda é bem simplista"
   ]
  },
  {
   "cell_type": "markdown",
   "metadata": {},
   "source": [
    "## Usando `aggregate`  "
   ]
  },
  {
   "cell_type": "markdown",
   "metadata": {},
   "source": [
    "A ação `aggregate` nos livra da restrição de ter que retornar elementos do mesmo tipo do RDD. Assim como no `fold`, fornecemos um valor de zero inicial. Então, fornecemos duas funções. A primeira é utilizada para combinar os elementos do nosso RDD com um acumulador. A segunda função é necessária para mesclar dois acumuladores."
   ]
  },
  {
   "cell_type": "code",
   "execution_count": 22,
   "metadata": {},
   "outputs": [
    {
     "name": "stdout",
     "output_type": "stream",
     "text": [
      "A duração média das interações normais é 216.657 segundos\n"
     ]
    }
   ],
   "source": [
    "contagem_soma_normal = soma_duracao_normal_rdd.aggregate(\n",
    "    (0,0), # o valor inicial\n",
    "    (lambda acum, valor: (acum[0]+valor, acum[1]+1)), # combina valor com o acumulador\n",
    "    (lambda acum1, acum2: (acum1[0] + acum2[0], acum1[1] + acum2[1])) # combina acumuladores\n",
    ")\n",
    "\n",
    "duracao_media_normal = round(contagem_soma_normal[0] / float(contagem_soma_normal[1]), 3)\n",
    "print(\"A duração média das interações normais é {} segundos\".format(duracao_media_normal))"
   ]
  },
  {
   "cell_type": "markdown",
   "metadata": {},
   "source": [
    "Na agregação anterior, o primeiro elemento do acumulador guarda a soma total ao passo que o segundo elemento guarda a contagem; Combinar o acumulador com o elemento do RDD consiste em somar os valores e incrementar a contagem. Combinar dois acumuladores requer apenas uma soma de dois fatores."
   ]
  },
  {
   "cell_type": "markdown",
   "metadata": {},
   "source": [
    "Podemos fazer o mesmo com as interações de ataque."
   ]
  },
  {
   "cell_type": "code",
   "execution_count": 25,
   "metadata": {},
   "outputs": [
    {
     "name": "stdout",
     "output_type": "stream",
     "text": [
      "A duração média para interações de ataque é 6.621 segundos\n"
     ]
    }
   ],
   "source": [
    "contagem_soma_ataque = soma_duracao_ataque_rdd.aggregate(\n",
    "    (0,0), # o valor inicial\n",
    "    (lambda acum, valor: (acum[0] + valor, acum[1] + 1)), # combina valor com o acumulador\n",
    "    (lambda acum1, acum2: (acum1[0] + acum2[0], acum1[1] + acum2[1])) # combina acumuladores\n",
    ")\n",
    "\n",
    "duracao_media_ataque = round(contagem_soma_ataque[0]/float(contagem_soma_ataque[1]), 3)\n",
    "print(\"A duração média para interações de ataque é {} segundos\".format(duracao_media_ataque))"
   ]
  }
 ],
 "metadata": {
  "kernelspec": {
   "display_name": "Python 3",
   "language": "python",
   "name": "python3"
  },
  "language_info": {
   "codemirror_mode": {
    "name": "ipython",
    "version": 3
   },
   "file_extension": ".py",
   "mimetype": "text/x-python",
   "name": "python",
   "nbconvert_exporter": "python",
   "pygments_lexer": "ipython3",
   "version": "3.6.4"
  }
 },
 "nbformat": 4,
 "nbformat_minor": 1
}
