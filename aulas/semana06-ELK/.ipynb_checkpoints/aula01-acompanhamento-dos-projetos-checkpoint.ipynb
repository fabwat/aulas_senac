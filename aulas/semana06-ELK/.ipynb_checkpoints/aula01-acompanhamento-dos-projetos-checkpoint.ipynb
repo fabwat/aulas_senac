{
 "cells": [
  {
   "cell_type": "markdown",
   "metadata": {},
   "source": [
    "# CheckPoint 2: Acompanhamento dos Projetos\n",
    "\n",
    "\n",
    "Parando para fazer o acompanhamento e orientações de desenvolvimento dos projetos"
   ]
  }
 ],
 "metadata": {
  "kernelspec": {
   "display_name": "Python 3",
   "language": "python",
   "name": "python3"
  },
  "language_info": {
   "codemirror_mode": {
    "name": "ipython",
    "version": 3
   },
   "file_extension": ".py",
   "mimetype": "text/x-python",
   "name": "python",
   "nbconvert_exporter": "python",
   "pygments_lexer": "ipython3",
   "version": "3.6.4"
  }
 },
 "nbformat": 4,
 "nbformat_minor": 2
}
