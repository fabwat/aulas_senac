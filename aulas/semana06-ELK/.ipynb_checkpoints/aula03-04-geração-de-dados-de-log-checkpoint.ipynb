{
 "cells": [
  {
   "cell_type": "markdown",
   "metadata": {},
   "source": [
    "# Introdução ao ELK\n",
    "\n",
    "## Atividade\n",
    "\n",
    "A partir das diversas necessidades de análise de logs, apresentado na aula 02 (A Necessidade da Análise de Logs), vocẽ deve:\n",
    "\n",
    "\n",
    "1. Estabelecer um cenário de desenvolvimento que envolva as 5 necessidades apresentadas na aula anterior:\n",
    "\n",
    "   =>  Debugging\n",
    "      \n",
    "   => Análise de Performance\n",
    "      \n",
    "   => Análise de Segurança\n",
    "      \n",
    "   => Análise Preditiva\n",
    "      \n",
    "   => Log de dispositivos (IoT)\n",
    "   \n",
    "   \n",
    "   \n",
    "2. Gerar a maior quantidade de dados que você conseguir para cada cenário. Você pode utilizar quaisquer ferramentas que souber, como por exemplo (Excel, Python, Java, R, Ruby, VBA etc)\n",
    "\n",
    "   => Os logs de cada necessidade deverão estar em arquivos separados\n",
    "      \n",
    "   => O formato das datas não pode ser igual para todos\n",
    "   \n",
    "   => Procure incluir vieses na distribuição dos dados (que possam ser detectados por uma ferramenta)\n",
    "   \n",
    "   \n",
    "3. Tente estabelecer o modelo matemático que explique a distribuição de seus dados"
   ]
  }
 ],
 "metadata": {
  "kernelspec": {
   "display_name": "Python 3",
   "language": "python",
   "name": "python3"
  },
  "language_info": {
   "codemirror_mode": {
    "name": "ipython",
    "version": 3
   },
   "file_extension": ".py",
   "mimetype": "text/x-python",
   "name": "python",
   "nbconvert_exporter": "python",
   "pygments_lexer": "ipython3",
   "version": "3.6.4"
  }
 },
 "nbformat": 4,
 "nbformat_minor": 2
}
